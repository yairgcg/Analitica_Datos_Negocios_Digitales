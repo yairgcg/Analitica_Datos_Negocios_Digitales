{
 "cells": [
  {
   "cell_type": "markdown",
   "id": "4e5b65cf",
   "metadata": {},
   "source": [
    "# Operaciones Básicas con Python"
   ]
  },
  {
   "cell_type": "markdown",
   "id": "0579e8b6",
   "metadata": {},
   "source": [
    "##"
   ]
  },
  {
   "cell_type": "markdown",
   "id": "5a5cb53f",
   "metadata": {},
   "source": [
    "## Declararación de variables y asignación de datos "
   ]
  },
  {
   "cell_type": "code",
   "execution_count": null,
   "id": "6ae406bb",
   "metadata": {},
   "outputs": [],
   "source": [
    "# Declaración de variables\n",
    "a = 1 # int\n",
    "b = 2.3 # float\n",
    "nombre = \"Ramiro\"\n",
    "booleanas = False # bool\n",
    "animales = [\"Gato\", \"Perro\", \"Mono\"] # Secuencia\n",
    "print(animales)"
   ]
  },
  {
   "cell_type": "markdown",
   "id": "76bd78d6",
   "metadata": {},
   "source": [
    "**Se describe los tipos de datos en Python y la forma de imprimirlos**"
   ]
  },
  {
   "cell_type": "markdown",
   "id": "87cbc3ee",
   "metadata": {},
   "source": []
  }
 ],
 "metadata": {
  "kernelspec": {
   "display_name": "Python 3",
   "language": "python",
   "name": "python3"
  },
  "language_info": {
   "name": "python",
   "version": "3.12.8"
  }
 },
 "nbformat": 4,
 "nbformat_minor": 5
}
