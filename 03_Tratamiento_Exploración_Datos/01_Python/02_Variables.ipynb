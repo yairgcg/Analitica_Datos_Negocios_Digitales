{
 "cells": [
  {
   "cell_type": "markdown",
   "id": "ac90c4f4",
   "metadata": {},
   "source": [
    "## Ejemplo 2: Variables\n",
    "\n",
    "### 1. Objetivos:\n",
    "- Entender cual es la syntaxis de la asignación de variables en Python\n",
    "- Aprender la convención de nombramiento de variables\n"
   ]
  },
  {
   "cell_type": "markdown",
   "id": "1390bbce",
   "metadata": {},
   "source": [
    "### 2. Desarrollo:\n",
    "Los siguientes nombres son nombres posibles de variables en Python\n",
    "\n",
    "- var_1\n",
    "- variable_2\n",
    "- variable_dos\n",
    "- variable_nueva_tres\n",
    "- Esta_es_una_variable_nueva"
   ]
  },
  {
   "cell_type": "markdown",
   "id": "5b6b2207",
   "metadata": {},
   "source": [
    "Los siguientes son nombres inválidos para una variable en Python\n",
    "- 1_2\n",
    "- 1_variable\n",
    "- variableDos\n",
    "- EstaEsUnaVariable\n",
    "- SoyUnaVariable"
   ]
  },
  {
   "cell_type": "markdown",
   "id": "92092e2b",
   "metadata": {},
   "source": [
    "Asignemos unas cuantas variables"
   ]
  },
  {
   "cell_type": "code",
   "execution_count": 2,
   "id": "71969b2b",
   "metadata": {},
   "outputs": [],
   "source": [
    "var_1 = 3\n",
    "var_2 = 6\n",
    "variable_3 = 10\n",
    "variable_nueva_4 = 20"
   ]
  },
  {
   "cell_type": "markdown",
   "id": "d45061db",
   "metadata": {},
   "source": [
    "Podemos acceder a su contenido con tan solo escribir el nombre de la variable en una celda y correrla\n"
   ]
  },
  {
   "cell_type": "code",
   "execution_count": 5,
   "id": "9b9b2eee",
   "metadata": {},
   "outputs": [
    {
     "data": {
      "text/plain": [
       "3"
      ]
     },
     "execution_count": 5,
     "metadata": {},
     "output_type": "execute_result"
    }
   ],
   "source": [
    "var_1   "
   ]
  },
  {
   "cell_type": "code",
   "execution_count": 6,
   "id": "94456ee0",
   "metadata": {},
   "outputs": [
    {
     "data": {
      "text/plain": [
       "20"
      ]
     },
     "execution_count": 6,
     "metadata": {},
     "output_type": "execute_result"
    }
   ],
   "source": [
    "variable_nueva_4"
   ]
  },
  {
   "cell_type": "markdown",
   "id": "18700e56",
   "metadata": {},
   "source": [
    "Se intentó llamar una variable que no se ha asignado o no existe, JN va a lanzar un error"
   ]
  },
  {
   "cell_type": "code",
   "execution_count": 7,
   "id": "d4035cd1",
   "metadata": {},
   "outputs": [
    {
     "ename": "NameError",
     "evalue": "name 'var_5' is not defined",
     "output_type": "error",
     "traceback": [
      "\u001b[1;31m---------------------------------------------------------------------------\u001b[0m",
      "\u001b[1;31mNameError\u001b[0m                                 Traceback (most recent call last)",
      "Cell \u001b[1;32mIn[7], line 1\u001b[0m\n\u001b[1;32m----> 1\u001b[0m \u001b[43mvar_5\u001b[49m\n",
      "\u001b[1;31mNameError\u001b[0m: name 'var_5' is not defined"
     ]
    }
   ],
   "source": [
    "var_5"
   ]
  },
  {
   "cell_type": "markdown",
   "id": "74cd7ddc",
   "metadata": {},
   "source": [
    "De igual manera, si se escribe una asignación pero no se corre la celda, esa variable no estará disponible para el Notebook más adelante"
   ]
  },
  {
   "cell_type": "code",
   "execution_count": 9,
   "id": "61e16672",
   "metadata": {},
   "outputs": [],
   "source": [
    "var_2 = 66\n"
   ]
  },
  {
   "cell_type": "code",
   "execution_count": 10,
   "id": "e416a856",
   "metadata": {},
   "outputs": [
    {
     "data": {
      "text/plain": [
       "66"
      ]
     },
     "execution_count": 10,
     "metadata": {},
     "output_type": "execute_result"
    }
   ],
   "source": [
    "var_2"
   ]
  },
  {
   "cell_type": "markdown",
   "id": "131e7e14",
   "metadata": {},
   "source": [
    "## Reto 1: Variables\n",
    "\n",
    "### 1. Objetivos:\n",
    "    - Practicar convención de nombramientos y asignación de variables\n",
    "\n",
    "### 2. Desarrollo\n",
    "Realizar la siguiente práctica\n"
   ]
  },
  {
   "cell_type": "code",
   "execution_count": null,
   "id": "c3e27913",
   "metadata": {},
   "outputs": [],
   "source": [
    "# Asigna el número 12345 a una variable llamada variableLocochona\n",
    "variable_locochona = 12345;\n",
    "\n",
    "# Asigna el número 14.567 a la variable parDecimal\n",
    "par_decimal = 14.567;\n",
    "\n",
    "# Asigna un número cualquiera a una variable que tenga 5 palabras en su nombre\n",
    "nombre_de_la_variable_con_cinco_palabras = 10;\n",
    "\n",
    "# Asigna cualquier numero a una variable que incluya palabras y numeros\n",
    "variable12 = 12;\n"
   ]
  }
 ],
 "metadata": {
  "kernelspec": {
   "display_name": "gym_env",
   "language": "python",
   "name": "python3"
  },
  "language_info": {
   "codemirror_mode": {
    "name": "ipython",
    "version": 3
   },
   "file_extension": ".py",
   "mimetype": "text/x-python",
   "name": "python",
   "nbconvert_exporter": "python",
   "pygments_lexer": "ipython3",
   "version": "3.10.16"
  }
 },
 "nbformat": 4,
 "nbformat_minor": 5
}
