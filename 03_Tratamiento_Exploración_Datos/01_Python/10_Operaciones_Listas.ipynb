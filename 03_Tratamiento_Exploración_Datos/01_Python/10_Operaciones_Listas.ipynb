{
 "cells": [
  {
   "cell_type": "markdown",
   "id": "6d7ee67a",
   "metadata": {},
   "source": [
    "# Operaciones con Listas"
   ]
  },
  {
   "cell_type": "markdown",
   "id": "d603a8e2",
   "metadata": {},
   "source": [
    "## Copiar una lista a otra"
   ]
  },
  {
   "cell_type": "code",
   "execution_count": null,
   "id": "74bb8dfc",
   "metadata": {},
   "outputs": [],
   "source": [
    "lista_1 =[1]\n",
    "lista_2 = lista_1\n",
    "\n",
    "print(f\"Lista 1: {lista_1} Lista 2: {lista_2}\")´{}"
   ]
  },
  {
   "cell_type": "code",
   "execution_count": 3,
   "id": "79cc464d",
   "metadata": {},
   "outputs": [
    {
     "data": {
      "text/plain": [
       "[10, 4, 2]"
      ]
     },
     "execution_count": 3,
     "metadata": {},
     "output_type": "execute_result"
    }
   ],
   "source": [
    "    # Dada ña lista [10, 8, 6, 4, 2] eliminar el numero 8 y 6\n",
    "lista_3 = [10,8,6,4,2]\n",
    "del lista_3[1:3]\n",
    "lista_3"
   ]
  },
  {
   "cell_type": "code",
   "execution_count": null,
   "id": "6af805ed",
   "metadata": {},
   "outputs": [],
   "source": []
  },
  {
   "cell_type": "markdown",
   "id": "78847911",
   "metadata": {},
   "source": [
    "### `Pop` remueve el último elemento de la lista si se llama sin argumentos\n",
    "\n"
   ]
  },
  {
   "cell_type": "code",
   "execution_count": 6,
   "id": "f39a3b11",
   "metadata": {},
   "outputs": [
    {
     "data": {
      "text/plain": [
       "[10]"
      ]
     },
     "execution_count": 6,
     "metadata": {},
     "output_type": "execute_result"
    }
   ],
   "source": [
    "lista_3.pop() \n",
    "lista_3\n",
    "\n"
   ]
  },
  {
   "cell_type": "markdown",
   "id": "d775df0a",
   "metadata": {},
   "source": []
  },
  {
   "cell_type": "code",
   "execution_count": 7,
   "id": "749660fa",
   "metadata": {},
   "outputs": [],
   "source": [
    "lista_3.append(7)\n",
    "lista_3.append(5)\n",
    "lista_3.append(9)\n",
    "lista_3.append(11)"
   ]
  },
  {
   "cell_type": "code",
   "execution_count": 8,
   "id": "b9a2a7a9",
   "metadata": {},
   "outputs": [
    {
     "data": {
      "text/plain": [
       "[10, 7, 5, 9, 11]"
      ]
     },
     "execution_count": 8,
     "metadata": {},
     "output_type": "execute_result"
    }
   ],
   "source": [
    "lista_3"
   ]
  },
  {
   "cell_type": "code",
   "execution_count": 11,
   "id": "9886487f",
   "metadata": {},
   "outputs": [
    {
     "data": {
      "text/plain": [
       "[10, 5, 9, 11, 5]"
      ]
     },
     "execution_count": 11,
     "metadata": {},
     "output_type": "execute_result"
    }
   ],
   "source": [
    "lista_3.pop(1)\n",
    "\n",
    "lista_3"
   ]
  },
  {
   "cell_type": "code",
   "execution_count": 12,
   "id": "39475cf4",
   "metadata": {},
   "outputs": [
    {
     "data": {
      "text/plain": [
       "['a', 12, True]"
      ]
     },
     "execution_count": 12,
     "metadata": {},
     "output_type": "execute_result"
    }
   ],
   "source": [
    "list_example = [\"a\", 12, True]\n",
    "list_example"
   ]
  },
  {
   "cell_type": "code",
   "execution_count": null,
   "id": "ca6168ae",
   "metadata": {},
   "outputs": [
    {
     "name": "stdout",
     "output_type": "stream",
     "text": [
      "['a', 12, True]\n",
      "<class 'list'>\n"
     ]
    }
   ],
   "source": [
    "print(list_example)\n",
    "print(type(list_example))\n"
   ]
  },
  {
   "cell_type": "code",
   "execution_count": null,
   "id": "39cdd15b",
   "metadata": {},
   "outputs": [
    {
     "name": "stdout",
     "output_type": "stream",
     "text": [
      "[['hallway, 100'], ['kitchen', 85]]\n",
      "<class 'list'>\n"
     ]
    }
   ],
   "source": [
    "# Lista de listas\n",
    "list_house = [[\"hallway\", 100], [\"kitchen\", 85]]\n",
    "print(list_house)\n",
    "print(type(list_house))"
   ]
  },
  {
   "cell_type": "code",
   "execution_count": 20,
   "id": "841821ae",
   "metadata": {},
   "outputs": [
    {
     "data": {
      "text/plain": [
       "85"
      ]
     },
     "execution_count": 20,
     "metadata": {},
     "output_type": "execute_result"
    }
   ],
   "source": [
    "list_house[1][1]"
   ]
  },
  {
   "cell_type": "code",
   "execution_count": 21,
   "id": "7303d597",
   "metadata": {},
   "outputs": [
    {
     "data": {
      "text/plain": [
       "'kitchen'"
      ]
     },
     "execution_count": 21,
     "metadata": {},
     "output_type": "execute_result"
    }
   ],
   "source": [
    "# Tiene acceso a la lista en la posición 0 y su elemento en la pposición 1\n",
    "list_house[1][0]"
   ]
  },
  {
   "cell_type": "code",
   "execution_count": 22,
   "id": "8a856e6c",
   "metadata": {},
   "outputs": [
    {
     "name": "stdout",
     "output_type": "stream",
     "text": [
      "['heidy', 'Ines', 54, 'Henry', 'Oscar', 38]\n"
     ]
    }
   ],
   "source": [
    "list_family = [\"heidy\", \"Ines\", 54, \"Henry\", \"Oscar\", 38]\n",
    "print(list_family)"
   ]
  },
  {
   "cell_type": "code",
   "execution_count": 24,
   "id": "24a9bac9",
   "metadata": {},
   "outputs": [
    {
     "name": "stdout",
     "output_type": "stream",
     "text": [
      "Ines\n",
      "Ines\n"
     ]
    }
   ],
   "source": [
    "print(list_family[-5])\n",
    "print(list_family[1])\n"
   ]
  },
  {
   "cell_type": "code",
   "execution_count": null,
   "id": "b539c89e",
   "metadata": {},
   "outputs": [
    {
     "name": "stdout",
     "output_type": "stream",
     "text": [
      "['Henry', 'Oscar']\n",
      "['heidy', 'Ines', 54, 'Henry', 'Oscar']\n",
      "[38]\n"
     ]
    }
   ],
   "source": [
    "# Slicing [start: end]\n",
    "#       inclusive: exclusive\n",
    "\n",
    "print(list_family[3:5]) # No toma el último dígito\n",
    "print(list_family[:5]) \n",
    "print(list_family[5:]) # Desde la posición 5 hasta el final"
   ]
  },
  {
   "cell_type": "code",
   "execution_count": null,
   "id": "29ccf626",
   "metadata": {},
   "outputs": [],
   "source": []
  },
  {
   "cell_type": "markdown",
   "id": "368c4d26",
   "metadata": {},
   "source": [
    "### **Manipulando listas**"
   ]
  },
  {
   "cell_type": "code",
   "execution_count": null,
   "id": "437fffd6",
   "metadata": {},
   "outputs": [
    {
     "name": "stdout",
     "output_type": "stream",
     "text": [
      "['heidy', 'Ines', 54, 'Henry', 'Oscar', 37]\n",
      "['heidy', 'Ines', 54, 'Henry', 'Oscar', 37]\n",
      "['Mayumi', 24, 54, 'Henry', 'Oscar', 37]\n"
     ]
    }
   ],
   "source": [
    "print(list_family)\n",
    "list_family[-1] = 37\n",
    "print(list_family)\n",
    "\n",
    "list_family[:2] = [\"Mayumy\", 24, True]\n",
    "print(list_family)\n",
    "\n"
   ]
  },
  {
   "cell_type": "code",
   "execution_count": 33,
   "id": "5e848982",
   "metadata": {},
   "outputs": [
    {
     "name": "stdout",
     "output_type": "stream",
     "text": [
      "['Mayumi', 24, 54, 'Henry', 'Oscar', 37, 'Achuchena', 12]\n"
     ]
    }
   ],
   "source": [
    "# Agregar y remover elementos de la lista\n",
    "\n",
    "familia_extendida = list_family + [\"Achuchena\", 12]\n",
    "print(familia_extendida)\n",
    "\n",
    "# Eliminar de la lista el 54 que está después de Inés\n",
    "del familia_extendida[2]\n",
    "\n",
    "# Eliminat\n",
    "# del(familia_extendida[3])\n",
    "# familia_extendida.pop(3)\n",
    "# familia_extendida.remove(54)\n",
    "\n",
    "\n",
    "\n"
   ]
  },
  {
   "cell_type": "code",
   "execution_count": null,
   "id": "80034490",
   "metadata": {},
   "outputs": [
    {
     "name": "stdout",
     "output_type": "stream",
     "text": [
      "['hallway', 11.25, 'kitchen', 18.0, 'chil zone', 20.0, 'bedroom', 10.75, 'bathroom', 10.5, 'garage', 15.45]\n"
     ]
    }
   ],
   "source": [
    "# Ejercicio - Eliminar 'poolhouse' y 24.5\n",
    "areas = [\"hallway\", 11.25, \"kitchen\", 18.0, \"chil zone\", 20.0, \"bedroom\", 10.75, \"bathroom\", 10.50, \"poolhouse\", 24.5, \"garage\", 15.45]\n",
    "\n",
    "areas.remove(\"poolhouse\")\n",
    "areas.remove(24.5)\n",
    "print(areas)\n",
    "\n",
    "print(areas[-4:-2])\n"
   ]
  },
  {
   "cell_type": "markdown",
   "id": "8d964246",
   "metadata": {},
   "source": [
    "# **Funciones y Paquetes**\n",
    "\n",
    "## **Función**\n",
    "Es una pieza de código reutilizable, destinada a resolver una tarea en particular\n",
    "\n"
   ]
  },
  {
   "cell_type": "code",
   "execution_count": 39,
   "id": "91659da6",
   "metadata": {},
   "outputs": [
    {
     "name": "stdout",
     "output_type": "stream",
     "text": [
      "[22, 54, 33, 38, 36]\n",
      "El tamaño de la lista es 5\n",
      "El valor máximo del la lista es 54\n",
      "Help on built-in function round in module builtins:\n",
      "\n",
      "round(number, ndigits=None)\n",
      "    Round a number to a given precision in decimal digits.\n",
      "    \n",
      "    The return value is an integer if ndigits is omitted or None.  Otherwise\n",
      "    the return value has the same type as the number.  ndigits may be negative.\n",
      "\n"
     ]
    }
   ],
   "source": [
    "lis_fam = [22, 54, 33, 38, 36]\n",
    "print(lis_fam)\n",
    "print(f\"El tamaño de la lista es {len(lis_fam)}\")\n",
    "print(f\"El valor máximo del la lista es {max(lis_fam)}\")\n",
    "round(1.689, 2)\n",
    "help(round)\n",
    "\n"
   ]
  },
  {
   "cell_type": "code",
   "execution_count": 42,
   "id": "bcf364ab",
   "metadata": {},
   "outputs": [
    {
     "name": "stdout",
     "output_type": "stream",
     "text": [
      "Help on built-in function round in module builtins:\n",
      "\n",
      "round(number, ndigits=None)\n",
      "    Round a number to a given precision in decimal digits.\n",
      "    \n",
      "    The return value is an integer if ndigits is omitted or None.  Otherwise\n",
      "    the return value has the same type as the number.  ndigits may be negative.\n",
      "\n"
     ]
    }
   ],
   "source": [
    "help(round)"
   ]
  },
  {
   "cell_type": "code",
   "execution_count": 48,
   "id": "1ef1577d",
   "metadata": {},
   "outputs": [
    {
     "name": "stdout",
     "output_type": "stream",
     "text": [
      "[18.0, 20.0, 51.25]\n",
      "[51.25, 20.0, 18.0]\n"
     ]
    }
   ],
   "source": [
    "first = [51.25, 18.0, 20.0]\n",
    "full_sorted = sorted(first)\n",
    "full_sorted_asc= sorted(first, reverse=False)\n",
    "full_sorted_desc= sorted(first, reverse=True)\n",
    "\n",
    "print(full_sorted_asc)\n",
    "print(full_sorted_desc)\n"
   ]
  },
  {
   "cell_type": "code",
   "execution_count": null,
   "id": "32374f73",
   "metadata": {},
   "outputs": [],
   "source": [
    "\n"
   ]
  },
  {
   "cell_type": "markdown",
   "id": "490c49da",
   "metadata": {},
   "source": [
    "### **Métodos**\n",
    "En Python todo es objeto. Y cada objeto tiene métodos específicos asociados\n",
    "    \n",
    "    - Objetos con diferentes tipos pueden tener métodos con el mismo nombre \n"
   ]
  },
  {
   "cell_type": "code",
   "execution_count": 52,
   "id": "ce61fc42",
   "metadata": {},
   "outputs": [
    {
     "name": "stdout",
     "output_type": "stream",
     "text": [
      "indice: 4\n",
      "Contar: 2\n"
     ]
    }
   ],
   "source": [
    "lis_fam = [\"heidy\", 22, \"inés\", 54, \"henry\", 33, \"oscar\", 54]\n",
    "\n",
    "print(f\"indice: {lis_fam.index('henry')}\") #Obtiene el índice de la lista \n",
    "print(f\"Contar: {lis_fam.count(54)}\")\n"
   ]
  },
  {
   "cell_type": "code",
   "execution_count": 53,
   "id": "505996be",
   "metadata": {},
   "outputs": [
    {
     "name": "stdout",
     "output_type": "stream",
     "text": [
      "['heidy', 22, 'inés', 54, 33, 'oscar', 54]\n"
     ]
    }
   ],
   "source": [
    "del(lis_fam[lis_fam.index('henry')])\n",
    "print(lis_fam)"
   ]
  },
  {
   "cell_type": "code",
   "execution_count": 54,
   "id": "6db1300d",
   "metadata": {},
   "outputs": [
    {
     "name": "stdout",
     "output_type": "stream",
     "text": [
      "Mayumi\n"
     ]
    }
   ],
   "source": [
    "name = \"mayumi\"\n",
    "\n",
    "print(name.capitalize())"
   ]
  },
  {
   "cell_type": "code",
   "execution_count": null,
   "id": "6b5cb955",
   "metadata": {},
   "outputs": [
    {
     "name": "stdout",
     "output_type": "stream",
     "text": [
      "<built-in method capitalize of str object at 0x000001E9D6139CB0>\n",
      "ma*umi\n"
     ]
    }
   ],
   "source": [
    "lista_emtornos = [\"susel\", \"brandon\", \"alejandro\", \"gabriel\"]\n",
    "# print(lista_emtornos[0].capitalize)\n",
    "print(name.replace('y', '*'))\n"
   ]
  },
  {
   "cell_type": "code",
   "execution_count": 57,
   "id": "f07d7278",
   "metadata": {},
   "outputs": [
    {
     "data": {
      "text/plain": [
       "'MAYUMI'"
      ]
     },
     "execution_count": 57,
     "metadata": {},
     "output_type": "execute_result"
    }
   ],
   "source": [
    "name.upper()"
   ]
  },
  {
   "cell_type": "code",
   "execution_count": 58,
   "id": "da464e1f",
   "metadata": {},
   "outputs": [
    {
     "name": "stdout",
     "output_type": "stream",
     "text": [
      "['heidy', 22, 'inés', 54, 33, 'oscar', 54]\n",
      "[54, 'oscar', 33, 54, 'inés', 22, 'heidy']\n"
     ]
    }
   ],
   "source": [
    "print(lis_fam)\n",
    "lis_fam.reverse()\n",
    "print(lis_fam)\n",
    "\n"
   ]
  },
  {
   "cell_type": "code",
   "execution_count": null,
   "id": "7409c3ef",
   "metadata": {},
   "outputs": [],
   "source": []
  }
 ],
 "metadata": {
  "kernelspec": {
   "display_name": "gym_env",
   "language": "python",
   "name": "python3"
  },
  "language_info": {
   "codemirror_mode": {
    "name": "ipython",
    "version": 3
   },
   "file_extension": ".py",
   "mimetype": "text/x-python",
   "name": "python",
   "nbconvert_exporter": "python",
   "pygments_lexer": "ipython3",
   "version": "3.10.16"
  }
 },
 "nbformat": 4,
 "nbformat_minor": 5
}
