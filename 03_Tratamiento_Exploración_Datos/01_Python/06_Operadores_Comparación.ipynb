{
 "cells": [
  {
   "cell_type": "markdown",
   "id": "38ad3489",
   "metadata": {},
   "source": []
  },
  {
   "cell_type": "markdown",
   "id": "236dbbfa",
   "metadata": {},
   "source": [
    "## Operadores de comparación\n",
    "\n",
    "### Obhetivos\n",
    "\n",
    "- Conocer el funcionamiento de los operadores de comparación usando ints, float y string\n",
    "\n",
    "---\n",
    "### Desarrollo"
   ]
  },
  {
   "cell_type": "markdown",
   "id": "feb74722",
   "metadata": {},
   "source": [
    "Asignar valores a unas variables para después utilizarlas para realizar comparaciones"
   ]
  },
  {
   "cell_type": "code",
   "execution_count": null,
   "id": "9974da4e",
   "metadata": {},
   "outputs": [],
   "source": [
    "var_1 = 34\n",
    "var_2 = 12\n",
    "var_3 = 23.24\n",
    "var_4 = 23.56\n",
    "var_5 = \"Ok\"\n",
    "var_6 = \"Error\"\n",
    "var_7 = True\n",
    "var_8 = False\n"
   ]
  },
  {
   "cell_type": "code",
   "execution_count": 3,
   "id": "cda2f5ab",
   "metadata": {},
   "outputs": [
    {
     "data": {
      "text/plain": [
       "True"
      ]
     },
     "execution_count": 3,
     "metadata": {},
     "output_type": "execute_result"
    }
   ],
   "source": [
    "# Ahora vamos a realizar una comparación para ver como funcionan\n",
    "var_1 > var_2"
   ]
  },
  {
   "cell_type": "code",
   "execution_count": 4,
   "id": "8df773cd",
   "metadata": {},
   "outputs": [
    {
     "data": {
      "text/plain": [
       "False"
      ]
     },
     "execution_count": 4,
     "metadata": {},
     "output_type": "execute_result"
    }
   ],
   "source": [
    "var_1 < var_2"
   ]
  },
  {
   "cell_type": "code",
   "execution_count": 5,
   "id": "93d9786f",
   "metadata": {},
   "outputs": [
    {
     "data": {
      "text/plain": [
       "True"
      ]
     },
     "execution_count": 5,
     "metadata": {},
     "output_type": "execute_result"
    }
   ],
   "source": [
    "var_3 < var_4"
   ]
  },
  {
   "cell_type": "code",
   "execution_count": 6,
   "id": "e10d4b54",
   "metadata": {},
   "outputs": [
    {
     "data": {
      "text/plain": [
       "True"
      ]
     },
     "execution_count": 6,
     "metadata": {},
     "output_type": "execute_result"
    }
   ],
   "source": [
    "var_3 <= var_3"
   ]
  },
  {
   "cell_type": "code",
   "execution_count": 7,
   "id": "dbd4f541",
   "metadata": {},
   "outputs": [
    {
     "data": {
      "text/plain": [
       "False"
      ]
     },
     "execution_count": 7,
     "metadata": {},
     "output_type": "execute_result"
    }
   ],
   "source": [
    "var_1 >= var_4"
   ]
  },
  {
   "cell_type": "code",
   "execution_count": 8,
   "id": "829a210c",
   "metadata": {},
   "outputs": [
    {
     "data": {
      "text/plain": [
       "False"
      ]
     },
     "execution_count": 8,
     "metadata": {},
     "output_type": "execute_result"
    }
   ],
   "source": [
    "var_5 == var_6"
   ]
  },
  {
   "cell_type": "code",
   "execution_count": 9,
   "id": "cae9b7a3",
   "metadata": {},
   "outputs": [
    {
     "data": {
      "text/plain": [
       "True"
      ]
     },
     "execution_count": 9,
     "metadata": {},
     "output_type": "execute_result"
    }
   ],
   "source": [
    "var_5 != var_6"
   ]
  },
  {
   "cell_type": "code",
   "execution_count": 10,
   "id": "e0cd141d",
   "metadata": {},
   "outputs": [
    {
     "data": {
      "text/plain": [
       "False"
      ]
     },
     "execution_count": 10,
     "metadata": {},
     "output_type": "execute_result"
    }
   ],
   "source": [
    "var_7 == var_8"
   ]
  },
  {
   "cell_type": "code",
   "execution_count": 11,
   "id": "1bb3a5c5",
   "metadata": {},
   "outputs": [
    {
     "data": {
      "text/plain": [
       "False"
      ]
     },
     "execution_count": 11,
     "metadata": {},
     "output_type": "execute_result"
    }
   ],
   "source": [
    "True == False"
   ]
  },
  {
   "cell_type": "code",
   "execution_count": 12,
   "id": "06052d06",
   "metadata": {},
   "outputs": [
    {
     "data": {
      "text/plain": [
       "True"
      ]
     },
     "execution_count": 12,
     "metadata": {},
     "output_type": "execute_result"
    }
   ],
   "source": [
    "True > False"
   ]
  },
  {
   "cell_type": "code",
   "execution_count": 13,
   "id": "1bb843e7",
   "metadata": {},
   "outputs": [
    {
     "data": {
      "text/plain": [
       "False"
      ]
     },
     "execution_count": 13,
     "metadata": {},
     "output_type": "execute_result"
    }
   ],
   "source": [
    "True < False"
   ]
  }
 ],
 "metadata": {
  "kernelspec": {
   "display_name": "gym_env",
   "language": "python",
   "name": "python3"
  },
  "language_info": {
   "codemirror_mode": {
    "name": "ipython",
    "version": 3
   },
   "file_extension": ".py",
   "mimetype": "text/x-python",
   "name": "python",
   "nbconvert_exporter": "python",
   "pygments_lexer": "ipython3",
   "version": "3.10.16"
  }
 },
 "nbformat": 4,
 "nbformat_minor": 5
}
