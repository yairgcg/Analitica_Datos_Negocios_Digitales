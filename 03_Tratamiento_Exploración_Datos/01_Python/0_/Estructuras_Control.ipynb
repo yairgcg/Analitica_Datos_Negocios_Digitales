{
 "cells": [
  {
   "cell_type": "markdown",
   "id": "49b004d0",
   "metadata": {},
   "source": [
    "## Estructuras de control\n",
    "\n",
    "### Objetivo\n",
    "    - Conocer las estructuras de control, como funcionan y para que sirven\n",
    "\n",
    "\n",
    "---\n",
    "\n",
    "### Desarrollo"
   ]
  },
  {
   "cell_type": "markdown",
   "id": "5b93a482",
   "metadata": {},
   "source": [
    "Queremos darle a nuestro programa la capacidad de tomar decisiones. Esto puede hacerse utilizando una sentencia `if`. Una sentencia `if` utiliza una comparación para obtener un boolean. Si el `boolean` es `true`, el bloque de la sentencia se ejecuta. Si el `booleano` es `false`, nos saltamos a lo que sigue después del bloque"
   ]
  },
  {
   "cell_type": "code",
   "execution_count": 2,
   "id": "1d5aba46",
   "metadata": {},
   "outputs": [],
   "source": [
    "var_1 = 4\n",
    "var_2 = 5"
   ]
  },
  {
   "cell_type": "code",
   "execution_count": 5,
   "id": "01e6f05e",
   "metadata": {},
   "outputs": [
    {
     "name": "stdout",
     "output_type": "stream",
     "text": [
      "El bloque se ha ejecutado\n"
     ]
    }
   ],
   "source": [
    "if var_1 < var_2:\n",
    "    print(\"El bloque se ha ejecutado\")\n"
   ]
  },
  {
   "cell_type": "code",
   "execution_count": 9,
   "id": "dfee6713",
   "metadata": {},
   "outputs": [
    {
     "name": "stdout",
     "output_type": "stream",
     "text": [
      "El numero 10 es menor que 12\n"
     ]
    }
   ],
   "source": [
    "valor_1 = int(input(\"Escibr el val0r 1\"))\n",
    "valor_2 = int(input(\"Escibr el val0r 1\"))\n",
    "\n",
    "if valor_1 < valor_2:\n",
    "    print (f\"El numero {valor_1} es menor que {valor_2}\")\n",
    "\n",
    "     "
   ]
  },
  {
   "cell_type": "code",
   "execution_count": 17,
   "id": "df805569",
   "metadata": {},
   "outputs": [],
   "source": [
    "# Función que solicita un valor\n",
    "\n",
    "def solicitar():\n",
    "    return int(input(\"Escibr el val0r 1\"))\n",
    "\n",
    "\n",
    "def comparar (valor_uno, valor_dos):\n",
    "    if valor_1 < valor_2:\n",
    "        print (f\"{valor_1} es menor que {valor_2}\")\n"
   ]
  },
  {
   "cell_type": "code",
   "execution_count": null,
   "id": "7d8bf99f",
   "metadata": {},
   "outputs": [
    {
     "name": "stdout",
     "output_type": "stream",
     "text": [
      "10 es menor que 12\n"
     ]
    }
   ],
   "source": []
  },
  {
   "cell_type": "code",
   "execution_count": 18,
   "id": "76f9f63c",
   "metadata": {},
   "outputs": [
    {
     "name": "stdout",
     "output_type": "stream",
     "text": [
      "10 es menor que 12\n"
     ]
    }
   ],
   "source": [
    "var_1 = solicitar \n",
    "var_2 = solicitar\n",
    "\n",
    "comparar(var_1, var_2)"
   ]
  },
  {
   "cell_type": "markdown",
   "id": "e9d3328e",
   "metadata": {},
   "source": [
    "1. **Desarrollar un programa que determinesi un número es positivo**\n",
    "2. **Desarrollar un programa que determine si puedes votar la edad mínima es 18**\n",
    "3. **Verificar si un número es par**\n",
    "4. **Realizar la simulacíón de un login en el cual se debe verificar si la contraseña es correcta**\n",
    "5. **Realizar un programa para que determine si un alumno está aprobado, la calificaión mínima es 7**\n",
    "\n",
    "Todos los datos deben ser solicitados"
   ]
  },
  {
   "cell_type": "code",
   "execution_count": 25,
   "id": "c5081f18",
   "metadata": {},
   "outputs": [
    {
     "name": "stdout",
     "output_type": "stream",
     "text": [
      "Tu numero ingresado es positivo! Bien hecho\n"
     ]
    }
   ],
   "source": [
    "# Programa n1\n",
    "valor1 = int(input(\"Escribe tu numero\"))\n",
    "\n",
    "if (valor1 < 0):\n",
    "    print (\"Tu numero ingresado es negativo\")\n",
    "else:\n",
    "    print (\"Tu numero ingresado es positivo! Bien hecho\")"
   ]
  },
  {
   "cell_type": "code",
   "execution_count": 20,
   "id": "c20d8c2a",
   "metadata": {},
   "outputs": [
    {
     "name": "stdout",
     "output_type": "stream",
     "text": [
      "Aun no puedes votar, eres menor de edad\n"
     ]
    }
   ],
   "source": [
    "# Programa n2\n",
    "edad = int(input(\"Escribe tu edad\"))\n",
    "if (edad < 18):\n",
    "    print (\"Aun no puedes votar, eres menor de edad\")\n",
    "else: \n",
    "    print(\"Ya puedes votar, felicidades\")"
   ]
  },
  {
   "cell_type": "code",
   "execution_count": null,
   "id": "bf01464a",
   "metadata": {},
   "outputs": [
    {
     "name": "stdout",
     "output_type": "stream",
     "text": [
      "Tu numero es impar\n"
     ]
    }
   ],
   "source": [
    "# Programa n4\n",
    "numero_par = edad = int(input(\"Escribe tu edad\"))\n",
    "par_o_impar = numero_par % 2\n",
    "\n",
    "if (par_o_impar == 0):\n",
    "    print(\"Tu numero es par\")\n",
    "else:\n",
    "    print(\"Tu numero es impar\")"
   ]
  },
  {
   "cell_type": "code",
   "execution_count": 23,
   "id": "1aa85d85",
   "metadata": {},
   "outputs": [
    {
     "name": "stdout",
     "output_type": "stream",
     "text": [
      "Tus datos ingresados son correctos\n"
     ]
    }
   ],
   "source": [
    "# Programa n5\n",
    "nombre = input(\"Escribe tu nombre de usuario\")\n",
    "contra = input(\"Escribe tu contraseña\")\n",
    "contra2 = input(\"Escribe tu contraseña nuevamente para confirmar \")\n",
    "\n",
    "if (contra != contra2):\n",
    "    print (\"Tu contraseña es incorrecta\")\n",
    "else: \n",
    "    print(\"Tus datos ingresados son correctos\")    \n",
    "\n"
   ]
  },
  {
   "cell_type": "code",
   "execution_count": null,
   "id": "013425cf",
   "metadata": {},
   "outputs": [
    {
     "name": "stdout",
     "output_type": "stream",
     "text": [
      "Aprobaste! Bien hecho\n"
     ]
    }
   ],
   "source": [
    "# Programa final\n",
    "calificacion = int(input(\"Escribe tu contraseña\"))\n",
    "\n",
    "if (calificacion < 7):\n",
    "    print(\"Reprobaste la materia\")\n",
    "else:\n",
    "    print(\"Aprobaste! Bien hecho\")"
   ]
  },
  {
   "cell_type": "code",
   "execution_count": null,
   "id": "945791f4",
   "metadata": {},
   "outputs": [],
   "source": [
    "resultafdo = 4 > 5 or 5 = 5\n",
    "print(resultafdo)"
   ]
  },
  {
   "cell_type": "markdown",
   "id": "215d48b6",
   "metadata": {},
   "source": [
    "## Operadores lógicos\n",
    "---\n",
    "\n",
    "### Operador or\n",
    "\n",
    "| A   | B   | A or B |\n",
    "|-----|-----|--------|\n",
    "| F   | F   | F      |\n",
    "| T   | F   | T      |\n",
    "| F   | T   | T      |\n",
    "| T   | T   | T      |\n",
    "\n",
    "### Operador and\n",
    "\n",
    "| A   | B   | A and B |\n",
    "|-----|-----|---------|\n",
    "| F   | F   | F       |\n",
    "| T   | F   | F       |\n",
    "| F   | T   | F       |\n",
    "| T   | T   | T       |\n",
    "\n",
    "### Operador not\n",
    "\n",
    "| A   | not A |\n",
    "|-----|--------|\n",
    "| F   | T      |\n",
    "| T   | F      |\n"
   ]
  },
  {
   "cell_type": "markdown",
   "id": "4cff3b43",
   "metadata": {},
   "source": []
  },
  {
   "cell_type": "code",
   "execution_count": null,
   "id": "87d80487",
   "metadata": {},
   "outputs": [],
   "source": [
    "resultado = 4 > 5 and 5==5"
   ]
  },
  {
   "cell_type": "code",
   "execution_count": null,
   "id": "aedbd580",
   "metadata": {},
   "outputs": [],
   "source": [
    "resultado = not (4<5 and 5==5)"
   ]
  },
  {
   "cell_type": "code",
   "execution_count": null,
   "id": "b6c3c79e",
   "metadata": {},
   "outputs": [],
   "source": [
    "x = 5\n",
    "y = 10\n",
    "resultado = x>= 5 and y<=x "
   ]
  },
  {
   "cell_type": "markdown",
   "id": "a87d6c36",
   "metadata": {},
   "source": [
    "\n",
    "1. Verificar que un numero esta en un rango de 10 y 20\n",
    "2. Verificar si un usuario tiene acceso al charlys, si tiene, tiene mínimo 18 años o tiene permiso especial\n",
    "3. Verificar si un numero no es igual a 0\n",
    "4. Verificar si un valor esta fuera del rango de 0 y 30\n",
    " "
   ]
  },
  {
   "cell_type": "code",
   "execution_count": null,
   "id": "4c0d00b3",
   "metadata": {},
   "outputs": [],
   "source": [
    "# Programa n1\n",
    "valor1 = int(input(\"Escribe un valor entre 10 y 20\"))\n",
    "\n",
    "if (valor1 < 10 and valor1 > 20):\n",
    "    print(f\"Tu valor {valor1} esta dentro del rango\")\n",
    "else:\n",
    "    print(\"Tu valor esta fuera del rango\")\n"
   ]
  },
  {
   "cell_type": "code",
   "execution_count": null,
   "id": "56da6f49",
   "metadata": {},
   "outputs": [],
   "source": [
    "# Programa n2\n",
    "valor1 = int(input(\"Escribe tu edad\"))\n",
    "\n",
    "permiso = input(\"Cuentas con un permiso especial para entrar? s/n\")\n",
    "\n",
    "if valor1 > 18 or permiso == \"s\":\n",
    "    print(\"Adelante, tienes acceso para entrar\")\n",
    "else:\n",
    "    print (\"No tienes acceso para entrar\") "
   ]
  },
  {
   "cell_type": "code",
   "execution_count": null,
   "id": "05f9b9f5",
   "metadata": {},
   "outputs": [],
   "source": [
    "# Programa n3\n",
    "valor2 = int(input(\"Escribe un valor\"))\n",
    "if valor2 != 0:\n",
    "    print(\"Tu valor es diferente de 0\")\n",
    "else: \n",
    "    print(\"Tu valor es igual a 0\"); "
   ]
  },
  {
   "cell_type": "code",
   "execution_count": null,
   "id": "0075d385",
   "metadata": {},
   "outputs": [],
   "source": [
    "# Programa n4\n",
    "\n",
    "valor3 = int(input(\"Escribe un valor entre 0 y 30\"))\n",
    "\n",
    "if (valor1 < 10 and valor1 > 20):\n",
    "    print(f\"Tu valor {valor1} esta dentro del rango\")\n",
    "else:\n",
    "    print(\"Tu valor esta fuera del rango\")\n"
   ]
  },
  {
   "cell_type": "markdown",
   "id": "ea495b84",
   "metadata": {},
   "source": [
    "Hay veces que queremos tener una acción `default`, que quetemos que suceda en caso de que la comparración sea `false`. Para esto podemos usar una sentencia\n",
    "`else`. Piénsalo como preguntarse a uno mismo: \"Si meto a mi mano a la bolsa y resulta que encuentro un billete de $50, me compro unos Nachos si no hay nada, y si no hay nada, veré una pelicula con mi novio llorando de tristeza porque no es el otro\"\n"
   ]
  },
  {
   "cell_type": "code",
   "execution_count": null,
   "id": "ced54f9a",
   "metadata": {},
   "outputs": [],
   "source": [
    "var_1 = 4\n",
    "var_2 = 5\n",
    "\n",
    "if (var_1 > var_2):\n",
    "    print(\"La condición se cumpló\")\n",
    "else:\n",
    "    print(\"La condición no se ha cumplido, y por lo tanto no \" \\\n",
    "    \"se imprimió\")"
   ]
  },
  {
   "cell_type": "code",
   "execution_count": null,
   "id": "e7c16d90",
   "metadata": {},
   "outputs": [],
   "source": [
    "# Encontrar el número más grande de dos números\n",
    "\n",
    "numer_1 = int(input(\"Introduce el número 1\"))\n",
    "numer_2 = int(input(\"Introduce el número 2\"))\n",
    "\n",
    "if (numer_1 > numer_2):\n",
    "    print(f\"{numer_1} es mas grande que {numer_2}\")\n",
    "else:\n",
    "    print(f\"{numer_2} es mayor que {numer_1}\")"
   ]
  },
  {
   "cell_type": "code",
   "execution_count": null,
   "id": "d45e6750",
   "metadata": {},
   "outputs": [],
   "source": [
    "\n",
    "numer_1 = int(input(\"Introduce el número 1\"))\n",
    "numer_2 = int(input(\"Introduce el número 2\"))\n",
    "\n",
    "if numer_1 > numer_2:\n",
    "    numero_mayor = numer_1\n",
    "else:\n",
    "     numero_mayor = numer_1\n",
    "print(f\"El numero mayor \")"
   ]
  },
  {
   "cell_type": "markdown",
   "id": "8fca99b5",
   "metadata": {},
   "source": [
    "Si queremos que haya más de dos opciones, podemos agregar opciones utilizando la sentencia `elif`\n"
   ]
  },
  {
   "cell_type": "code",
   "execution_count": null,
   "id": "eda03fc1",
   "metadata": {},
   "outputs": [],
   "source": [
    "var_1 = 12\n",
    "var_2 = 12\n",
    "if var_1 > var_2:\n",
    "    print(f\"El {var_1} es mayor que {var_2}\")\n",
    "elif var_2 > var_1:\n",
    "    print (f\"El {var_2}es mayor que {var_1}\") \n",
    "else: \n",
    "    print(f\"El {var_1} es igual que {var_2}\")\n"
   ]
  },
  {
   "cell_type": "code",
   "execution_count": null,
   "id": "9c135cf9",
   "metadata": {},
   "outputs": [
    {
     "name": "stdout",
     "output_type": "stream",
     "text": [
      "El bono será de 135000.0\n"
     ]
    }
   ],
   "source": [
    "ventas_anuales_totales = float(input(\"Escribe las ventas anuales totales de la empresa\")) \n",
    "if ventas_anuales_totales > 1000000:\n",
    "    bono_ventas_anuales_totales = (ventas_anuales_totales * 20) / 100 \n",
    "    print(f\"El bono será de {bono_ventas_anuales_totales}\") \n",
    "elif ventas_anuales_totales > 700000 and ventas_anuales_totales < 1000000:\n",
    "    bono_ventas_anuales_totales = (ventas_anuales_totales * 15) / 100 \n",
    "    print(f\"El bono será de {bono_ventas_anuales_totales}\")\n",
    "elif ventas_anuales_totales > 400000 and ventas_anuales_totales < 700000:\n",
    "    bono_ventas_anuales_totales = (ventas_anuales_totales * 10) / 100 \n",
    "    print(f\"El bono será de {bono_ventas_anuales_totales}\")\n",
    "elif ventas_anuales_totales > 100000 and ventas_anuales_totales < 400000:\n",
    "    bono_ventas_anuales_totales = (ventas_anuales_totales * 10) / 100 \n",
    "    print(f\"El bono será de {bono_ventas_anuales_totales}\")\n",
    "else:\n",
    "    bono_ventas_anuales_totales = (ventas_anuales_totales * 5) / 100 \n",
    "    print(f\"El bono será de {bono_ventas_anuales_totales}\")\n",
    "\n"
   ]
  },
  {
   "cell_type": "code",
   "execution_count": null,
   "id": "b6e47ba4",
   "metadata": {},
   "outputs": [],
   "source": []
  }
 ],
 "metadata": {
  "kernelspec": {
   "display_name": "base",
   "language": "python",
   "name": "python3"
  },
  "language_info": {
   "codemirror_mode": {
    "name": "ipython",
    "version": 3
   },
   "file_extension": ".py",
   "mimetype": "text/x-python",
   "name": "python",
   "nbconvert_exporter": "python",
   "pygments_lexer": "ipython3",
   "version": "3.12.7"
  }
 },
 "nbformat": 4,
 "nbformat_minor": 5
}
