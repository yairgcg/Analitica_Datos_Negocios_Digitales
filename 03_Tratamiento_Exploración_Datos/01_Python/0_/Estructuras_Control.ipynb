{
 "cells": [
  {
   "cell_type": "markdown",
   "id": "49b004d0",
   "metadata": {},
   "source": [
    "## Estructuras de control\n",
    "\n",
    "### Objetivo\n",
    "    - Conocer las estructuras de control, como funcionan y para que sirven\n",
    "\n",
    "\n",
    "---\n",
    "\n",
    "### Desarrollo"
   ]
  },
  {
   "cell_type": "markdown",
   "id": "5b93a482",
   "metadata": {},
   "source": [
    "Queremos darle a nuestro programa la capacidad de tomar decisiones. Esto puede hacerse utilizando una sentencia `if`. Una sentencia `if` utiliza una comparación para obtener un boolean. Si el `boolean` es `true`, el bloque de la sentencia se ejecuta. Si el `booleano` es `false`, nos saltamos a lo que sigue después del bloque"
   ]
  },
  {
   "cell_type": "code",
   "execution_count": 2,
   "id": "1d5aba46",
   "metadata": {},
   "outputs": [],
   "source": [
    "var_1 = 4\n",
    "var_2 = 5"
   ]
  },
  {
   "cell_type": "code",
   "execution_count": 5,
   "id": "01e6f05e",
   "metadata": {},
   "outputs": [
    {
     "name": "stdout",
     "output_type": "stream",
     "text": [
      "El bloque se ha ejecutado\n"
     ]
    }
   ],
   "source": [
    "if var_1 < var_2:\n",
    "    print(\"El bloque se ha ejecutado\")\n"
   ]
  },
  {
   "cell_type": "code",
   "execution_count": 9,
   "id": "dfee6713",
   "metadata": {},
   "outputs": [
    {
     "name": "stdout",
     "output_type": "stream",
     "text": [
      "El numero 10 es menor que 12\n"
     ]
    }
   ],
   "source": [
    "valor_1 = int(input(\"Escibr el val0r 1\"))\n",
    "valor_2 = int(input(\"Escibr el val0r 1\"))\n",
    "\n",
    "if valor_1 < valor_2:\n",
    "    print (f\"El numero {valor_1} es menor que {valor_2}\")\n",
    "\n",
    "     "
   ]
  },
  {
   "cell_type": "code",
   "execution_count": 17,
   "id": "df805569",
   "metadata": {},
   "outputs": [],
   "source": [
    "# Función que solicita un valor\n",
    "\n",
    "def solicitar():\n",
    "    return int(input(\"Escibr el val0r 1\"))\n",
    "\n",
    "\n",
    "def comparar (valor_uno, valor_dos):\n",
    "    if valor_1 < valor_2:\n",
    "        print (f\"{valor_1} es menor que {valor_2}\")\n"
   ]
  },
  {
   "cell_type": "code",
   "execution_count": null,
   "id": "7d8bf99f",
   "metadata": {},
   "outputs": [
    {
     "name": "stdout",
     "output_type": "stream",
     "text": [
      "10 es menor que 12\n"
     ]
    }
   ],
   "source": []
  },
  {
   "cell_type": "code",
   "execution_count": 18,
   "id": "76f9f63c",
   "metadata": {},
   "outputs": [
    {
     "name": "stdout",
     "output_type": "stream",
     "text": [
      "10 es menor que 12\n"
     ]
    }
   ],
   "source": [
    "var_1 = solicitar \n",
    "var_2 = solicitar\n",
    "\n",
    "comparar(var_1, var_2)"
   ]
  },
  {
   "cell_type": "markdown",
   "id": "e9d3328e",
   "metadata": {},
   "source": [
    "1. **Desarrollar un programa que determinesi un número es positivo**\n",
    "2. **Desarrollar un programa que determine si puedes votar la edad mínima es 18**\n",
    "3. **Verificar si un número es par**\n",
    "4. **Realizar la simulacíón de un login en el cual se debe verificar si la contraseña es correcta**\n",
    "5. **Realizar un programa para que determine si un alumno está aprobado, la calificaión mínima es 7**\n",
    "\n",
    "Todos los datos deben ser solicitados"
   ]
  },
  {
   "cell_type": "code",
   "execution_count": 25,
   "id": "c5081f18",
   "metadata": {},
   "outputs": [
    {
     "name": "stdout",
     "output_type": "stream",
     "text": [
      "Tu numero ingresado es positivo! Bien hecho\n"
     ]
    }
   ],
   "source": [
    "# Programa n1\n",
    "valor1 = int(input(\"Escribe tu numero\"))\n",
    "\n",
    "if (valor1 < 0):\n",
    "    print (\"Tu numero ingresado es negativo\")\n",
    "else:\n",
    "    print (\"Tu numero ingresado es positivo! Bien hecho\")"
   ]
  },
  {
   "cell_type": "code",
   "execution_count": 20,
   "id": "c20d8c2a",
   "metadata": {},
   "outputs": [
    {
     "name": "stdout",
     "output_type": "stream",
     "text": [
      "Aun no puedes votar, eres menor de edad\n"
     ]
    }
   ],
   "source": [
    "# Programa n2\n",
    "edad = int(input(\"Escribe tu edad\"))\n",
    "if (edad < 18):\n",
    "    print (\"Aun no puedes votar, eres menor de edad\")\n",
    "else: \n",
    "    print(\"Ya puedes votar, felicidades\")"
   ]
  },
  {
   "cell_type": "code",
   "execution_count": null,
   "id": "bf01464a",
   "metadata": {},
   "outputs": [
    {
     "name": "stdout",
     "output_type": "stream",
     "text": [
      "Tu numero es impar\n"
     ]
    }
   ],
   "source": [
    "# Programa n4\n",
    "numero_par = edad = int(input(\"Escribe tu edad\"))\n",
    "par_o_impar = numero_par % 2\n",
    "\n",
    "if (par_o_impar == 0):\n",
    "    print(\"Tu numero es par\")\n",
    "else:\n",
    "    print(\"Tu numero es impar\")"
   ]
  },
  {
   "cell_type": "code",
   "execution_count": 23,
   "id": "1aa85d85",
   "metadata": {},
   "outputs": [
    {
     "name": "stdout",
     "output_type": "stream",
     "text": [
      "Tus datos ingresados son correctos\n"
     ]
    }
   ],
   "source": [
    "# Programa n5\n",
    "nombre = input(\"Escribe tu nombre de usuario\")\n",
    "contra = input(\"Escribe tu contraseña\")\n",
    "contra2 = input(\"Escribe tu contraseña nuevamente para confirmar \")\n",
    "\n",
    "if (contra != contra2):\n",
    "    print (\"Tu contraseña es incorrecta\")\n",
    "else: \n",
    "    print(\"Tus datos ingresados son correctos\")    \n",
    "\n"
   ]
  },
  {
   "cell_type": "code",
   "execution_count": 24,
   "id": "013425cf",
   "metadata": {},
   "outputs": [
    {
     "name": "stdout",
     "output_type": "stream",
     "text": [
      "Aprobaste! Bien hecho\n"
     ]
    }
   ],
   "source": [
    "# Programa final\n",
    "calificacion = int(input(\"Escribe tu contraseña\"))\n",
    "\n",
    "if (calificacion < 7):\n",
    "    print(\"Reprobaste la materia\")\n",
    "else:\n",
    "    print(\"Aprobaste! Bien hecho\")"
   ]
  },
  {
   "cell_type": "code",
   "execution_count": null,
   "id": "4918f65f",
   "metadata": {},
   "outputs": [],
   "source": []
  }
 ],
 "metadata": {
  "kernelspec": {
   "display_name": "gym_env",
   "language": "python",
   "name": "python3"
  },
  "language_info": {
   "codemirror_mode": {
    "name": "ipython",
    "version": 3
   },
   "file_extension": ".py",
   "mimetype": "text/x-python",
   "name": "python",
   "nbconvert_exporter": "python",
   "pygments_lexer": "ipython3",
   "version": "3.10.16"
  }
 },
 "nbformat": 4,
 "nbformat_minor": 5
}
