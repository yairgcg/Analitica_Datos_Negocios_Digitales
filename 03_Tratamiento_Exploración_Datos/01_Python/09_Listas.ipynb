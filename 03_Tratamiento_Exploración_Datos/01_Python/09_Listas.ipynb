{
 "cells": [
  {
   "cell_type": "markdown",
   "id": "7769da71",
   "metadata": {},
   "source": [
    "### Listas \n",
    "\n",
    "1. Objetivos \n",
    "\n",
    "- Entender las sintaxis de las listas en Python \n",
    "- Agregar y crear listas y accesarlas \n",
    "\n",
    "---\n",
    "\n",
    "2. Desarrollo \n",
    "\n"
   ]
  },
  {
   "cell_type": "markdown",
   "id": "166e3d67",
   "metadata": {},
   "source": [
    "## Creando listas  y accediendo a ellas \n",
    "\n",
    "La listas son secuencias  ordenadas. E l orde de los datos en la lista es el mismo orden que tienen los datos a la hora de ser accicnados. Una list se ve asi."
   ]
  },
  {
   "cell_type": "code",
   "execution_count": 1,
   "id": "3dcb4875",
   "metadata": {},
   "outputs": [
    {
     "data": {
      "text/plain": [
       "[1, 2, 3, 4, 5, 6, 7]"
      ]
     },
     "execution_count": 1,
     "metadata": {},
     "output_type": "execute_result"
    }
   ],
   "source": [
    "lista_1 = [1,2,3,4,5,6,7]\n",
    "lista_1 "
   ]
  },
  {
   "cell_type": "code",
   "execution_count": 2,
   "id": "063dbe96",
   "metadata": {},
   "outputs": [
    {
     "data": {
      "text/plain": [
       "list"
      ]
     },
     "execution_count": 2,
     "metadata": {},
     "output_type": "execute_result"
    }
   ],
   "source": [
    "type (lista_1)"
   ]
  },
  {
   "cell_type": "markdown",
   "id": "adddbc4d",
   "metadata": {},
   "source": [
    "**Cada elemento de la lista tiene un indice para acceder a dicho elemento, dado que las listas son ordenadas, los indices de ven asgnados secuencialmente desde el peimer elemento hasta el ultimo.E l primir indice siempre es `o` y por lo tanto siempre el ultimo es `n-1`, donde n  es el numero total de elemento de la lista**"
   ]
  },
  {
   "cell_type": "code",
   "execution_count": 5,
   "id": "9ab92e8b",
   "metadata": {},
   "outputs": [
    {
     "name": "stdout",
     "output_type": "stream",
     "text": [
      "Primer elemento de la lista:([1, 2, 3, 4, 5, 6, 7], {0})\n",
      "El ultimo elemento de la lista:([1, 2, 3, 4, 5, 6, 7], {6})\n"
     ]
    }
   ],
   "source": [
    "# Imprimir el peimer elemento de la lista \n",
    "\n",
    "print(f'Primer elemento de la lista:{lista_1,{0}}')\n",
    "print(f'El ultimo elemento de la lista:{lista_1,{6}}')"
   ]
  },
  {
   "cell_type": "code",
   "execution_count": 5,
   "id": "a1219368",
   "metadata": {},
   "outputs": [
    {
     "name": "stdout",
     "output_type": "stream",
     "text": [
      "Primer elemento de la lista:[1, 2, 3, 4, 5, 6, 7]\n",
      "<class 'list'>\n"
     ]
    }
   ],
   "source": [
    "numbers = [1,2,3,4,5,6,7]\n",
    "\n",
    "# Imprime toda la lista \n",
    "print(f'Primer elemento de la lista:{numbers}')\n",
    "print(type(numbers))"
   ]
  },
  {
   "cell_type": "code",
   "execution_count": 3,
   "id": "b1a39209",
   "metadata": {},
   "outputs": [
    {
     "data": {
      "text/plain": [
       "4"
      ]
     },
     "execution_count": 3,
     "metadata": {},
     "output_type": "execute_result"
    }
   ],
   "source": [
    "numbers [3]"
   ]
  },
  {
   "cell_type": "markdown",
   "id": "e052b323",
   "metadata": {},
   "source": [
    "***Vamos a agregar un valor 111 al primer elemento de la lista "
   ]
  },
  {
   "cell_type": "code",
   "execution_count": 5,
   "id": "ed9e8673",
   "metadata": {},
   "outputs": [
    {
     "name": "stdout",
     "output_type": "stream",
     "text": [
      "[111, 2, 3, 4, 5, 6, 7]\n"
     ]
    }
   ],
   "source": [
    "numbers [0] = 111\n",
    "\n",
    "print(numbers)"
   ]
  },
  {
   "cell_type": "code",
   "execution_count": 6,
   "id": "9dbd2956",
   "metadata": {},
   "outputs": [
    {
     "name": "stdout",
     "output_type": "stream",
     "text": [
      "[111, 5, 3, 4, 5, 6, 7]\n"
     ]
    }
   ],
   "source": [
    "# Copiar el valor del 5to elemento al segundo \n",
    "\n",
    "numbers [1] = numbers [4] \n",
    "print(numbers)"
   ]
  },
  {
   "cell_type": "code",
   "execution_count": null,
   "id": "1d79e996",
   "metadata": {},
   "outputs": [],
   "source": [
    "\n",
    "numbers [1] = numbers [4] \n",
    "print(numbers)"
   ]
  },
  {
   "cell_type": "code",
   "execution_count": 8,
   "id": "67dba9d2",
   "metadata": {},
   "outputs": [
    {
     "name": "stdout",
     "output_type": "stream",
     "text": [
      "7\n"
     ]
    }
   ],
   "source": [
    "print(numbers[-1])"
   ]
  },
  {
   "cell_type": "markdown",
   "id": "31fb6530",
   "metadata": {},
   "source": [
    "### Eliminando elementos de las listas "
   ]
  },
  {
   "cell_type": "markdown",
   "id": "349217dd",
   "metadata": {},
   "source": [
    "Cualquier elemento de la lista puede ser eliminado en cualquier momento - esto se hace con una instrucción llamada `del` (eliminar). Nota: es una instrucción, no una función.\n",
    "\n",
    "Tienes que apuntar al elemento que quieres eliminar - desaparecerá de la lista y la longitud de la lista se reducirá en uno."
   ]
  },
  {
   "cell_type": "code",
   "execution_count": 9,
   "id": "453476a0",
   "metadata": {},
   "outputs": [
    {
     "name": "stdout",
     "output_type": "stream",
     "text": [
      "La lista actuale es[111, 5, 3, 4, 5, 6, 7]\n"
     ]
    }
   ],
   "source": [
    "print(f'La lista actuale es{numbers}')\n",
    "del numbers[2]"
   ]
  },
  {
   "cell_type": "code",
   "execution_count": 6,
   "metadata": {},
   "outputs": [
    {
     "name": "stdout",
     "output_type": "stream",
     "text": [
      "La lista actual es: [1, 2, 3, 4, 5, 7]\n",
      "EL tmaño de la lista es 6\n"
     ]
    }
   ],
   "source": [
    "del numbers [-2]\n",
    "print (f'La lista actual es: {numbers}')\n",
    "print (f'EL tmaño de la lista es {len(numbers)}')"
   ]
  },
  {
   "cell_type": "code",
   "execution_count": 7,
   "id": "eddb4c80",
   "metadata": {},
   "outputs": [
    {
     "name": "stdout",
     "output_type": "stream",
     "text": [
      "La lista actual es: [1, 4, 6, 2, 11]\n",
      "EL tmaño de la lista es 5\n"
     ]
    }
   ],
   "source": [
    "lista_pruebas = [1,2,4,6,2,11]\n",
    "\n",
    "# Remove -> Elimina o remueve la primera coincidencia  de un valor que se le indica \n",
    "\n",
    "lista_pruebas.remove(2)\n",
    "print (f'La lista actual es: {lista_pruebas}')\n",
    "print (f'EL tmaño de la lista es {len(lista_pruebas)}')"
   ]
  },
  {
   "cell_type": "code",
   "execution_count": 8,
   "id": "52cf0097",
   "metadata": {},
   "outputs": [],
   "source": [
    "lista_pruebas = [1,2,4,6,2,11]"
   ]
  },
  {
   "cell_type": "code",
   "execution_count": 10,
   "id": "504bc65b",
   "metadata": {},
   "outputs": [],
   "source": [
    "def elimiar (valor):\n",
    "     # print(f'Indice: {indice}, Elemento:{elemento}')\n",
    "    for indice, elemento in enumerate( lista_pruebas):\n",
    "      if elemento == valor:\n",
    "         del lista_pruebas[indice]"
   ]
  },
  {
   "cell_type": "code",
   "execution_count": 11,
   "id": "2cd8c157",
   "metadata": {},
   "outputs": [
    {
     "name": "stdout",
     "output_type": "stream",
     "text": [
      "Lista Actual [1, 2, 4, 6, 2, 11]\n",
      "Lista despues de elimiar  [1, 4, 6, 11]\n"
     ]
    }
   ],
   "source": [
    "print(f'Lista Actual {lista_pruebas}')\n",
    "elimiar(2)\n",
    "print(f'Lista despues de elimiar  {lista_pruebas}')"
   ]
  },
  {
   "cell_type": "markdown",
   "id": "bf627c89",
   "metadata": {},
   "source": [
    "### Los Indices Nefgativos son Legales \n",
    "\n",
    "`Un elemento con indice  igaual a -1 es el ultimo en la lista`"
   ]
  },
  {
   "cell_type": "code",
   "execution_count": 12,
   "id": "49e33d47",
   "metadata": {},
   "outputs": [
    {
     "name": "stdout",
     "output_type": "stream",
     "text": [
      "El untimo valor de la lista es: 1\n"
     ]
    }
   ],
   "source": [
    "numbres_2 = [111,7,2,1]\n",
    "print(f'El untimo valor de la lista es: {numbres_2[-1]}')\n"
   ]
  },
  {
   "cell_type": "code",
   "execution_count": 13,
   "id": "0c197af0",
   "metadata": {},
   "outputs": [
    {
     "name": "stdout",
     "output_type": "stream",
     "text": [
      "El untimo valor de la lista es: 7\n"
     ]
    }
   ],
   "source": [
    "numbres_2 = [111,7,2,1]\n",
    "print(f'El untimo valor de la lista es: {numbres_2[-3]}')\n"
   ]
  },
  {
   "cell_type": "markdown",
   "id": "12082118",
   "metadata": {},
   "source": [
    "## Elercicios de listas \n",
    "hat_list = [1, 2, 3, 4, 5]  Esta es una lista existente de números ocultos en el sombrero.\n",
    "Paso 1: escribe una línea de código que solicite al usuario\n",
    "reemplazar el número de en medio con un número entero ingresado por el usuario.\n",
    "Paso 2: escribe aquí una línea de código que elimine el último elemento de la lista.\n",
    "Paso 3: escribe aquí una línea de código que imprima la longitud de la lista existente.\n"
   ]
  },
  {
   "cell_type": "markdown",
   "id": "711b266d",
   "metadata": {},
   "source": [
    "## Agregar elementos a una lista append() e insert()\n",
    "\n",
    "Un nuevo de elemento puede ser añadido  al final de la lista existente \n",
    "\n",
    "`list.append(value)`\n",
    "\n",
    "El metodo `insert()` es un poco mas inteligente puede agregar un nuevo valor o elemento en calquier lugar de la lista no solo al final \n",
    "\n",
    "`list.insert(location, value)`\n",
    "\n",
    "- El primero muestra la ubicación requerida del elemento a insertar; nota: todos los elementos existentes que ocupan ubicaciones a la derecha del nuevo elemento (incluido el que está en la posición indicada) se desplazan a la derecha, para hacer espacio para el nuevo elemento;\n",
    "- El segundo es el elemento a insertar.\n"
   ]
  },
  {
   "cell_type": "code",
   "execution_count": 15,
   "id": "4d1b2381",
   "metadata": {},
   "outputs": [
    {
     "name": "stdout",
     "output_type": "stream",
     "text": [
      "La lista original es: [123, 8, 4, 1]\n",
      "El tamaño de la lista es: 4\n",
      "La lista original es: [123, 8, 4, 1, 33]\n",
      "El tamaño de la lista es: 5\n"
     ]
    }
   ],
   "source": [
    "numbers_3 = [123,8,4,1]\n",
    "print(f'La lista original es: {numbers_3}')\n",
    "print(f'El tamaño de la lista es: {len(numbers_3)}')\n",
    "\n",
    "#Gregar un valor al final de la lista con el metodo append\n",
    "numbers_3.append(33)\n",
    "print(f'La lista original es: {numbers_3}')\n",
    "print(f'El tamaño de la lista es: {len(numbers_3)}')"
   ]
  },
  {
   "cell_type": "code",
   "execution_count": null,
   "id": "3f1f3fb5",
   "metadata": {},
   "outputs": [],
   "source": [
    "def agregarAlfinal (valor):\n",
    "    numbers_3 [-1] = valor"
   ]
  },
  {
   "cell_type": "code",
   "execution_count": 17,
   "id": "efc15cef",
   "metadata": {},
   "outputs": [
    {
     "name": "stdout",
     "output_type": "stream",
     "text": [
      "La lista actual es: [123, 8, 4, 1, 33]\n",
      "El tamaño de la lista es: 5\n",
      "La lista actual es: [222, 123, 8, 4, 1, 33]\n",
      "El tamaño de la lista es: 6\n"
     ]
    }
   ],
   "source": [
    "## El metodo insert \n",
    "print (f'La lista actual es: {numbers_3}')\n",
    "print(f'El tamaño de la lista es: {len(numbers_3)}')\n",
    "\n",
    "numbers_3.insert(0, 222)\n",
    "print (f'La lista actual es: {numbers_3}')\n",
    "print(f'El tamaño de la lista es: {len(numbers_3)}')\n"
   ]
  },
  {
   "cell_type": "code",
   "execution_count": 21,
   "id": "a862a53b",
   "metadata": {},
   "outputs": [],
   "source": [
    "def llenar_lista_append(valor):\n",
    "    my_list = []#Se crea una lista vacia\n",
    "\n",
    "    for i in range(valor):\n",
    "        my_list.append(i+1)\n",
    "\n",
    "    return my_list"
   ]
  },
  {
   "cell_type": "code",
   "execution_count": 23,
   "id": "75597b20",
   "metadata": {},
   "outputs": [],
   "source": [
    "def imprimir_lista(lista):\n",
    "    print(f'La lista es {lista}')"
   ]
  },
  {
   "cell_type": "code",
   "execution_count": 24,
   "id": "e63beede",
   "metadata": {},
   "outputs": [
    {
     "name": "stdout",
     "output_type": "stream",
     "text": [
      "La lista es [1, 2, 3, 4, 5, 6, 7, 8, 9, 10]\n"
     ]
    }
   ],
   "source": [
    "lista = llenar_lista_append(10)\n",
    "imprimir_lista(lista)\n"
   ]
  },
  {
   "cell_type": "code",
   "execution_count": 25,
   "id": "358e2d8b",
   "metadata": {},
   "outputs": [
    {
     "name": "stdout",
     "output_type": "stream",
     "text": [
      "[1, 2, 3, 4, 5]\n"
     ]
    }
   ],
   "source": [
    "my_list = []\n",
    "\n",
    "for i in range (5):\n",
    "    my_list.insert(8, i+1)\n",
    "print(my_list)"
   ]
  },
  {
   "cell_type": "code",
   "execution_count": 1,
   "id": "6e80a36e",
   "metadata": {},
   "outputs": [
    {
     "name": "stdout",
     "output_type": "stream",
     "text": [
      "10\n",
      "1\n",
      "8\n",
      "3\n",
      "5\n"
     ]
    }
   ],
   "source": [
    "# Recorrer la lista con un ciclo\n",
    "\n",
    "mi_lista = [10,1,8,3,5]\n",
    "\n",
    "for i in mi_lista:\n",
    "    print(i)"
   ]
  },
  {
   "cell_type": "code",
   "execution_count": 4,
   "id": "3d7455ca",
   "metadata": {},
   "outputs": [
    {
     "name": "stdout",
     "output_type": "stream",
     "text": [
      "La suma de los valores de la lista es 27\n"
     ]
    }
   ],
   "source": [
    "# sumar los valores de las listas \n",
    "total = 0 \n",
    "\n",
    "for i in mi_lista:\n",
    "    total+=i\n",
    "\n",
    "print(f'La suma de los valores de la lista es {total}')"
   ]
  },
  {
   "cell_type": "markdown",
   "id": "b4719210",
   "metadata": {},
   "source": [
    "#### Realizar un programa que permita almacenar varias calificaciones en una lista para poder sacar el promedio de ellas, utilizando una funcion "
   ]
  },
  {
   "cell_type": "code",
   "execution_count": 5,
   "id": "cbfe13b5",
   "metadata": {},
   "outputs": [],
   "source": [
    "def guardar_calificaciones (numero):\n",
    "     lista_calificaciones = []\n",
    "     i = 1\n",
    "\n",
    "     while i<=numero:\n",
    "          calificacion = float(input(f'Solicita la calificaciom{i}'))\n",
    "          lista_calificaciones.append(calificacion)\n",
    "          i+=1\n",
    "\n",
    "     return lista_calificaciones\n",
    "\n",
    "\n"
   ]
  },
  {
   "cell_type": "code",
   "execution_count": 6,
   "id": "791b88d9",
   "metadata": {},
   "outputs": [
    {
     "name": "stdout",
     "output_type": "stream",
     "text": [
      "[6.0, 9.6, 10.0, 5.0, 7.0]\n"
     ]
    }
   ],
   "source": [
    "lista = guardar_calificaciones(5)\n",
    "print(lista)"
   ]
  }
 ],
 "metadata": {
  "kernelspec": {
   "display_name": "Python 3",
   "language": "python",
   "name": "python3"
  },
  "language_info": {
   "codemirror_mode": {
    "name": "ipython",
    "version": 3
   },
   "file_extension": ".py",
   "mimetype": "text/x-python",
   "name": "python",
   "nbconvert_exporter": "python",
   "pygments_lexer": "ipython3",
   "version": "3.11.9"
  }
 },
 "nbformat": 4,
 "nbformat_minor": 5
}
