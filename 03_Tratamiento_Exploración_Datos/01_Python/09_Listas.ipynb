{
 "cells": [
  {
   "cell_type": "markdown",
   "id": "7769da71",
   "metadata": {},
   "source": [
    "### Listas \n",
    "\n",
    "1. Objetivos \n",
    "\n",
    "- Entender las sintaxis de las listas en Python \n",
    "- Agregar y crear listas y accesarlas \n",
    "\n",
    "---\n",
    "\n",
    "2. Desarrollo \n",
    "\n"
   ]
  },
  {
   "cell_type": "markdown",
   "id": "166e3d67",
   "metadata": {},
   "source": [
    "## Creando listas  y accediendo a ellas \n",
    "\n",
    "La listas son secuencias  ordenadas. E l orde de los datos en la lista es el mismo orden que tienen los datos a la hora de ser accicnados. Una list se ve asi."
   ]
  },
  {
   "cell_type": "code",
   "execution_count": null,
   "id": "3dcb4875",
   "metadata": {},
   "outputs": [],
   "source": [
    "lista_1 = [1,2,3,4,5,6,7]\n",
    "lista_1 "
   ]
  },
  {
   "cell_type": "code",
   "execution_count": null,
   "id": "063dbe96",
   "metadata": {},
   "outputs": [],
   "source": [
    "type (lista_1)"
   ]
  },
  {
   "cell_type": "markdown",
   "id": "adddbc4d",
   "metadata": {},
   "source": [
    "**Cada elemento de la lista tiene un indice para acceder a dicho elemento, dado que las listas son ordenadas, los indices de ven asgnados secuencialmente desde el peimer elemento hasta el ultimo.E l primir indice siempre es `o` y por lo tanto siempre el ultimo es `n-1`, donde n  es el numero total de elemento de la lista**"
   ]
  },
  {
   "cell_type": "code",
   "execution_count": null,
   "id": "9ab92e8b",
   "metadata": {},
   "outputs": [],
   "source": [
    "# Imprimir el peimer elemento de la lista \n",
    "\n",
    "print(f'Primer elemento de la lista:{lista_1,{0}}')\n",
    "print(f'El ultimo elemento de la lista:{lista_1,{6}}')"
   ]
  },
  {
   "cell_type": "code",
   "execution_count": null,
   "id": "a1219368",
   "metadata": {},
   "outputs": [],
   "source": [
    "numbers = [1,2,3,4,5,6,7]\n",
    "\n",
    "# Imprime toda la lista \n",
    "print(f'Primer elemento de la lista:{numbers}')\n",
    "print(type(numbers))"
   ]
  },
  {
   "cell_type": "code",
   "execution_count": null,
   "id": "b1a39209",
   "metadata": {},
   "outputs": [],
   "source": [
    "numbers [3]"
   ]
  },
  {
   "cell_type": "markdown",
   "id": "e052b323",
   "metadata": {},
   "source": [
    "***Vamos a agregar un valor 111 al primer elemento de la lista "
   ]
  },
  {
   "cell_type": "code",
   "execution_count": null,
   "id": "ed9e8673",
   "metadata": {},
   "outputs": [],
   "source": [
    "numbers [0] = 111\n",
    "\n",
    "print(numbers)"
   ]
  },
  {
   "cell_type": "code",
   "execution_count": null,
   "id": "9dbd2956",
   "metadata": {},
   "outputs": [],
   "source": [
    "# Copiar el valor del 5to elemento al segundo \n",
    "\n",
    "numbers [1] = numbers [4] \n",
    "print(numbers)"
   ]
  },
  {
   "cell_type": "code",
   "execution_count": null,
   "id": "1d79e996",
   "metadata": {},
   "outputs": [],
   "source": [
    "\n",
    "numbers [1] = numbers [4] \n",
    "print(numbers)"
   ]
  },
  {
   "cell_type": "code",
   "execution_count": null,
   "id": "67dba9d2",
   "metadata": {},
   "outputs": [],
   "source": [
    "print(numbers[-1])"
   ]
  },
  {
   "cell_type": "markdown",
   "id": "31fb6530",
   "metadata": {},
   "source": [
    "### Eliminando elementos de las listas "
   ]
  },
  {
   "cell_type": "markdown",
   "id": "349217dd",
   "metadata": {},
   "source": [
    "Cualquier elemento de la lista puede ser eliminado en cualquier momento - esto se hace con una instrucción llamada `del` (eliminar). Nota: es una instrucción, no una función.\n",
    "\n",
    "Tienes que apuntar al elemento que quieres eliminar - desaparecerá de la lista y la longitud de la lista se reducirá en uno."
   ]
  },
  {
   "cell_type": "code",
   "execution_count": null,
   "id": "453476a0",
   "metadata": {},
   "outputs": [],
   "source": [
    "print(f'La lista actuale es{numbers}')\n",
    "del numbers[2]"
   ]
  },
  {
   "cell_type": "code",
   "execution_count": null,
   "metadata": {},
   "outputs": [],
   "source": [
    "del numbers [-2]\n",
    "print (f'La lista actual es: {numbers}')\n",
    "print (f'EL tmaño de la lista es {len(numbers)}')"
   ]
  },
  {
   "cell_type": "code",
   "execution_count": null,
   "id": "eddb4c80",
   "metadata": {},
   "outputs": [],
   "source": [
    "lista_pruebas = [1,2,4,6,2,11]\n",
    "\n",
    "# Remove -> Elimina o remueve la primera coincidencia  de un valor que se le indica \n",
    "\n",
    "lista_pruebas.remove(2)\n",
    "print (f'La lista actual es: {lista_pruebas}')\n",
    "print (f'EL tmaño de la lista es {len(lista_pruebas)}')"
   ]
  },
  {
   "cell_type": "code",
   "execution_count": null,
   "id": "52cf0097",
   "metadata": {},
   "outputs": [],
   "source": [
    "lista_pruebas = [1,2,4,6,2,11]"
   ]
  },
  {
   "cell_type": "code",
   "execution_count": null,
   "id": "504bc65b",
   "metadata": {},
   "outputs": [],
   "source": [
    "def elimiar (valor):\n",
    "     # print(f'Indice: {indice}, Elemento:{elemento}')\n",
    "    for indice, elemento in enumerate( lista_pruebas):\n",
    "      if elemento == valor:\n",
    "         del lista_pruebas[indice]"
   ]
  },
  {
   "cell_type": "code",
   "execution_count": null,
   "id": "2cd8c157",
   "metadata": {},
   "outputs": [],
   "source": [
    "print(f'Lista Actual {lista_pruebas}')\n",
    "elimiar(2)\n",
    "print(f'Lista despues de elimiar  {lista_pruebas}')"
   ]
  },
  {
   "cell_type": "markdown",
   "id": "bf627c89",
   "metadata": {},
   "source": [
    "### Los Indices Nefgativos son Legales \n",
    "\n",
    "`Un elemento con indice  igaual a -1 es el ultimo en la lista`"
   ]
  },
  {
   "cell_type": "code",
   "execution_count": null,
   "id": "49e33d47",
   "metadata": {},
   "outputs": [],
   "source": [
    "numbres_2 = [111,7,2,1]\n",
    "print(f'El untimo valor de la lista es: {numbres_2[-1]}')\n"
   ]
  },
  {
   "cell_type": "code",
   "execution_count": null,
   "id": "0c197af0",
   "metadata": {},
   "outputs": [],
   "source": [
    "numbres_2 = [111,7,2,1]\n",
    "print(f'El untimo valor de la lista es: {numbres_2[-3]}')\n"
   ]
  },
  {
   "cell_type": "markdown",
   "id": "12082118",
   "metadata": {},
   "source": [
    "## Elercicios de listas \n",
    "hat_list = [1, 2, 3, 4, 5]  Esta es una lista existente de números ocultos en el sombrero.\n",
    "Paso 1: escribe una línea de código que solicite al usuario\n",
    "reemplazar el número de en medio con un número entero ingresado por el usuario.\n",
    "Paso 2: escribe aquí una línea de código que elimine el último elemento de la lista.\n",
    "Paso 3: escribe aquí una línea de código que imprima la longitud de la lista existente.\n"
   ]
  },
  {
   "cell_type": "markdown",
   "id": "711b266d",
   "metadata": {},
   "source": [
    "## Agregar elementos a una lista append() e insert()\n",
    "\n",
    "Un nuevo de elemento puede ser añadido  al final de la lista existente \n",
    "\n",
    "`list.append(value)`\n",
    "\n",
    "El metodo `insert()` es un poco mas inteligente puede agregar un nuevo valor o elemento en calquier lugar de la lista no solo al final \n",
    "\n",
    "`list.insert(location, value)`\n",
    "\n",
    "- El primero muestra la ubicación requerida del elemento a insertar; nota: todos los elementos existentes que ocupan ubicaciones a la derecha del nuevo elemento (incluido el que está en la posición indicada) se desplazan a la derecha, para hacer espacio para el nuevo elemento;\n",
    "- El segundo es el elemento a insertar.\n"
   ]
  },
  {
   "cell_type": "code",
   "execution_count": null,
   "id": "4d1b2381",
   "metadata": {},
   "outputs": [],
   "source": [
    "numbers_3 = [123,8,4,1]\n",
    "print(f'La lista original es: {numbers_3}')\n",
    "print(f'El tamaño de la lista es: {len(numbers_3)}')\n",
    "\n",
    "#Gregar un valor al final de la lista con el metodo append\n",
    "numbers_3.append(33)\n",
    "print(f'La lista original es: {numbers_3}')\n",
    "print(f'El tamaño de la lista es: {len(numbers_3)}')"
   ]
  },
  {
   "cell_type": "code",
   "execution_count": null,
   "id": "3f1f3fb5",
   "metadata": {},
   "outputs": [],
   "source": [
    "def agregarAlfinal (valor):\n",
    "    numbers_3 [-1] = valor"
   ]
  },
  {
   "cell_type": "code",
   "execution_count": null,
   "id": "efc15cef",
   "metadata": {},
   "outputs": [],
   "source": [
    "## El metodo insert \n",
    "print (f'La lista actual es: {numbers_3}')\n",
    "print(f'El tamaño de la lista es: {len(numbers_3)}')\n",
    "\n",
    "numbers_3.insert(0, 222)\n",
    "print (f'La lista actual es: {numbers_3}')\n",
    "print(f'El tamaño de la lista es: {len(numbers_3)}')\n"
   ]
  },
  {
   "cell_type": "code",
   "execution_count": null,
   "id": "a862a53b",
   "metadata": {},
   "outputs": [],
   "source": [
    "def llenar_lista_append(valor):\n",
    "    my_list = []#Se crea una lista vacia\n",
    "\n",
    "    for i in range(valor):\n",
    "        my_list.append(i+1)\n",
    "\n",
    "    return my_list"
   ]
  },
  {
   "cell_type": "code",
   "execution_count": null,
   "id": "75597b20",
   "metadata": {},
   "outputs": [],
   "source": [
    "def imprimir_lista(lista):\n",
    "    print(f'La lista es {lista}')"
   ]
  },
  {
   "cell_type": "code",
   "execution_count": null,
   "id": "e63beede",
   "metadata": {},
   "outputs": [],
   "source": [
    "lista = llenar_lista_append(10)\n",
    "imprimir_lista(lista)\n"
   ]
  },
  {
   "cell_type": "code",
   "execution_count": null,
   "id": "358e2d8b",
   "metadata": {},
   "outputs": [],
   "source": [
    "my_list = []\n",
    "\n",
    "for i in range (5):\n",
    "    my_list.insert(8, i+1)\n",
    "print(my_list)"
   ]
  },
  {
   "cell_type": "code",
   "execution_count": null,
   "id": "6e80a36e",
   "metadata": {},
   "outputs": [],
   "source": [
    "# Recorrer la lista con un ciclo\n",
    "\n",
    "mi_lista = [10,1,8,3,5]\n",
    "\n",
    "for i in mi_lista:\n",
    "    print(i)"
   ]
  },
  {
   "cell_type": "code",
   "execution_count": null,
   "id": "3d7455ca",
   "metadata": {},
   "outputs": [],
   "source": [
    "# sumar los valores de las listas \n",
    "total = 0 \n",
    "\n",
    "for i in mi_lista:\n",
    "    total+=i\n",
    "\n",
    "print(f'La suma de los valores de la lista es {total}')"
   ]
  },
  {
   "cell_type": "markdown",
   "id": "b4719210",
   "metadata": {},
   "source": [
    "#### Realizar un programa que permita almacenar varias calificaciones en una lista para poder sacar el promedio de ellas, utilizando una funcion "
   ]
  },
  {
   "cell_type": "code",
   "execution_count": null,
   "id": "cbfe13b5",
   "metadata": {},
   "outputs": [],
   "source": [
    "def guardar_calificaciones (numero):\n",
    "     lista_calificaciones = []\n",
    "     i = 1\n",
    "\n",
    "     while i<=numero:\n",
    "          calificacion = float(input(f'Solicita la calificaciom{i}'))\n",
    "          lista_calificaciones.append(calificacion)\n",
    "          i+=1\n",
    "\n",
    "     return lista_calificaciones\n"
   ]
  },
  {
   "cell_type": "code",
   "execution_count": null,
   "id": "791b88d9",
   "metadata": {},
   "outputs": [],
   "source": [
    "lista = guardar_calificaciones(5)\n",
    "print(lista)"
   ]
  },
  {
   "cell_type": "markdown",
   "id": "882003c9",
   "metadata": {},
   "source": [
    "## Listas en Acción\n",
    "\n",
    "Imagina que necesitas reorganizar los elementos de una lista, es decir, revertir el orden de los elementos: el primero y el quinto, así como el segundo y el cuarto elemento serán intercambiados, el tercero permanecerá intacto.\n",
    "\n",
    " Pregunta: ¿Cómo se pueden intercambiar los valores de dos variables?"
   ]
  },
  {
   "cell_type": "code",
   "execution_count": null,
   "id": "bb5e02ff",
   "metadata": {},
   "outputs": [],
   "source": [
    "variable_1 = 1\n",
    "variable_2 = 2\n",
    "\n",
    "variable_2 = variable_1\n",
    "variable_1 = variable_2"
   ]
  },
  {
   "cell_type": "code",
   "execution_count": 3,
   "id": "28c4615c",
   "metadata": {},
   "outputs": [
    {
     "data": {
      "text/plain": [
       "[99, True]"
      ]
     },
     "execution_count": 3,
     "metadata": {},
     "output_type": "execute_result"
    }
   ],
   "source": [
    "variable_1 = 1\n",
    "variable_2 = 2\n",
    "\n",
    "auxiliar = variable_1\n",
    "variable_1 = variable_2\n",
    "variable_2  = auxiliar\n",
    "\n",
    "l = [99, True, \"Una lista\", [1,2]]\n",
    "mi_var = l[0:2]\n",
    "\n",
    "mi_var"
   ]
  },
  {
   "cell_type": "code",
   "execution_count": 5,
   "id": "73d35509",
   "metadata": {},
   "outputs": [
    {
     "name": "stdout",
     "output_type": "stream",
     "text": [
      "El valor de la variable_1 es: 2 Eñ valor de la variable_2 es 1\n"
     ]
    }
   ],
   "source": [
    "variable_1 = 1\n",
    "variable_2 = 2\n",
    "variable_1, variable_2 = variable_2, variable_1\n",
    "\n",
    "print(f\"El valor de la variable_1 es: {variable_1} Eñ valor de la variable_2 es {variable_2}\")"
   ]
  },
  {
   "cell_type": "markdown",
   "id": "03d5ceb2",
   "metadata": {},
   "source": [
    "Teniendo una lista llamada mi_lista con valores 10, 1, 8, 3 y  5, intercambiar el 10 por el 5 y viceversa"
   ]
  },
  {
   "cell_type": "code",
   "execution_count": null,
   "id": "75130fe6",
   "metadata": {},
   "outputs": [
    {
     "name": "stdout",
     "output_type": "stream",
     "text": [
      "5\n",
      "1\n",
      "8\n",
      "3\n",
      "10\n"
     ]
    }
   ],
   "source": [
    "mi_lista = [10, 1, 8, 3, 5]\n",
    "\n",
    "mi_lista[0] = 5\n",
    "mi_lista[4] = 10\n",
    "\n",
    "for i in mi_lista:\n",
    "    print(i) \n",
    "\n",
    "    mi_lista[3], mi_lista[4] = mi_lista[4], mi_lista[3] "
   ]
  },
  {
   "cell_type": "code",
   "execution_count": null,
   "id": "8c675bf2",
   "metadata": {},
   "outputs": [],
   "source": []
  }
 ],
 "metadata": {
  "kernelspec": {
   "display_name": "base",
   "language": "python",
   "name": "python3"
  },
  "language_info": {
   "codemirror_mode": {
    "name": "ipython",
    "version": 3
   },
   "file_extension": ".py",
   "mimetype": "text/x-python",
   "name": "python",
   "nbconvert_exporter": "python",
   "pygments_lexer": "ipython3",
   "version": "3.12.7"
  }
 },
 "nbformat": 4,
 "nbformat_minor": 5
}
