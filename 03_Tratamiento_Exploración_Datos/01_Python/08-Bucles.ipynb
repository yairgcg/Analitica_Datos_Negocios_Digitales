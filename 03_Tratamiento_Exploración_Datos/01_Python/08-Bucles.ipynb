{
 "cells": [
  {
   "cell_type": "markdown",
   "id": "41d7f7b9",
   "metadata": {},
   "source": [
    "# Bucles o Loops o Ciclos"
   ]
  },
  {
   "cell_type": "markdown",
   "id": "05d86061",
   "metadata": {},
   "source": [
    "## Bucles con while"
   ]
  },
  {
   "cell_type": "markdown",
   "id": "93f93ed9",
   "metadata": {},
   "source": [
    "### Bucle Infinito"
   ]
  },
  {
   "cell_type": "code",
   "execution_count": null,
   "id": "a3d1567b",
   "metadata": {},
   "outputs": [
    {
     "ename": "KeyboardInterrupt",
     "evalue": "",
     "output_type": "error",
     "traceback": [
      "\u001b[1;31m---------------------------------------------------------------------------\u001b[0m",
      "\u001b[1;31mKeyboardInterrupt\u001b[0m                         Traceback (most recent call last)",
      "Cell \u001b[1;32mIn[2], line 1\u001b[0m\n\u001b[1;32m----> 1\u001b[0m \u001b[38;5;28;01mwhile\u001b[39;00m \u001b[38;5;28;01mTrue\u001b[39;00m:\n\u001b[0;32m      2\u001b[0m     \u001b[38;5;28;01mpass\u001b[39;00m\n\u001b[0;32m      3\u001b[0m \u001b[38;5;28mprint\u001b[39m(\u001b[38;5;124m'\u001b[39m\u001b[38;5;124mEstoy dentro del bucle y no puedo salir\u001b[39m\u001b[38;5;124m'\u001b[39m)\n",
      "\u001b[1;31mKeyboardInterrupt\u001b[0m: "
     ]
    }
   ],
   "source": [
    "while True:\n",
    "   print('Estoy dentro del bucle y no puedo salir')"
   ]
  },
  {
   "cell_type": "code",
   "execution_count": 5,
   "id": "dceb0bf3",
   "metadata": {},
   "outputs": [
    {
     "name": "stdout",
     "output_type": "stream",
     "text": [
      "El numero mas grande es: 54\n"
     ]
    }
   ],
   "source": [
    "numero_grande = -999999999\n",
    "\n",
    "# ingresa el primer valor \n",
    "number = int(input('Introduce un número o escribe -1 para terminar'))\n",
    "\n",
    "while number!= -1:\n",
    "    # ¿Es el número más grande que el valor numero_grande?\n",
    "    if number > numero_grande:\n",
    "        numero_grande = number\n",
    "    \n",
    "    number = int(input('Introduce un número o escribe -1 para terminar'))\n",
    "\n",
    "print(f'El numero mas grande es: {numero_grande}')"
   ]
  },
  {
   "cell_type": "code",
   "execution_count": 6,
   "id": "1e5260c3",
   "metadata": {},
   "outputs": [
    {
     "name": "stdout",
     "output_type": "stream",
     "text": [
      "Soy el número 1\n",
      "Soy el número 2\n",
      "Soy el número 3\n",
      "Soy el número 4\n",
      "Soy el número 5\n",
      "Fin del programa\n"
     ]
    }
   ],
   "source": [
    "# Imprimir todos los numeros del 1 a N\n",
    "\n",
    "numero = int(input('Introduce un número'))\n",
    "\n",
    "i = 1\n",
    "while i <= numero:\n",
    "    print(f'Soy el número {i}')\n",
    "    i = i + 1\n",
    "\n",
    "print ('Fin del programa')\n"
   ]
  },
  {
   "cell_type": "markdown",
   "id": "18e26f08",
   "metadata": {},
   "source": [
    "**Realizar un programa que calcule el promedio de calificaciones n**"
   ]
  },
  {
   "cell_type": "code",
   "execution_count": null,
   "id": "0a24e3f5",
   "metadata": {},
   "outputs": [
    {
     "name": "stdout",
     "output_type": "stream",
     "text": [
      "30\n"
     ]
    }
   ],
   "source": [
    "n = float(input('Introduce el numero de calificaciones'))\n",
    "i = 1\n",
    "sumaCalif = 0.0\n",
    "calif = 0.0\n",
    "\n",
    "while i<=n:\n",
    "    sumaCalif+=float(input(f'Introduce la calificiacion {i}')) \n",
    "    i = i+1\n",
    "print (f'El promedio de calificaciones es {sumaCalif/n}')"
   ]
  },
  {
   "cell_type": "code",
   "execution_count": 7,
   "id": "5b61793d",
   "metadata": {},
   "outputs": [
    {
     "name": "stdout",
     "output_type": "stream",
     "text": [
      "El número de aprobados es 1\n",
      "El número de reprobados es: 0\n"
     ]
    }
   ],
   "source": [
    "cal = int(input('Introduce la calificación'))\n",
    "califAprob = 0\n",
    "califRepro = 0\n",
    "\n",
    "while cal!=-1:\n",
    "    if cal>=7.0 and cal<=10.0:\n",
    "        califAprob = califAprob + 1\n",
    "    elif cal<7.0 and cal>=0:\n",
    "        califRepro+=1\n",
    "    \n",
    "    cal = int(input('Introduce la calificación'))\n",
    "\n",
    "print(f'El número de aprobados es {califAprob}\\nEl número de reprobados es: {califRepro}')"
   ]
  },
  {
   "cell_type": "markdown",
   "id": "1ccac20b",
   "metadata": {},
   "source": [
    "## Bucle con for\n",
    "\n",
    "Otro tipo de bucle disponible en `python`proviene de la observación de que a veces es más importante contar los 'giros o vueltas' del bucle que verificar las condiciones.\n",
    "\n",
    "```python\n",
    "for i in range (100):\n",
    "    # do_something()\n",
    "    pass\n",
    "```"
   ]
  },
  {
   "cell_type": "code",
   "execution_count": 13,
   "id": "a326d84f",
   "metadata": {},
   "outputs": [
    {
     "name": "stdout",
     "output_type": "stream",
     "text": [
      "El valor de i es 0\n",
      "El valor de i es 1\n",
      "El valor de i es 2\n",
      "El valor de i es 3\n",
      "El valor de i es 4\n",
      "El valor de i es 5\n",
      "El valor de i es 6\n",
      "El valor de i es 7\n",
      "El valor de i es 8\n",
      "El valor de i es 9\n",
      "El valor de i es 10\n",
      "El valor de i es 11\n",
      "El valor de i es 12\n",
      "El valor de i es 13\n",
      "El valor de i es 14\n",
      "El valor de i es 15\n",
      "El valor de i es 16\n",
      "El valor de i es 17\n",
      "El valor de i es 18\n",
      "El valor de i es 19\n"
     ]
    }
   ],
   "source": [
    "for i in range(20):\n",
    "    print(f'El valor de i es {i}')"
   ]
  },
  {
   "cell_type": "code",
   "execution_count": 12,
   "id": "779bac69",
   "metadata": {},
   "outputs": [
    {
     "name": "stdout",
     "output_type": "stream",
     "text": [
      "El valor de i es 1\n",
      "El valor de i es 2\n",
      "El valor de i es 3\n",
      "El valor de i es 4\n",
      "El valor de i es 5\n",
      "El valor de i es 6\n",
      "El valor de i es 7\n",
      "El valor de i es 8\n",
      "El valor de i es 9\n",
      "El valor de i es 10\n",
      "El valor de i es 11\n",
      "El valor de i es 12\n",
      "El valor de i es 13\n",
      "El valor de i es 14\n",
      "El valor de i es 15\n",
      "El valor de i es 16\n",
      "El valor de i es 17\n",
      "El valor de i es 18\n",
      "El valor de i es 19\n",
      "El valor de i es 20\n"
     ]
    }
   ],
   "source": [
    "for i in range(20):\n",
    "    print(f'El valor de i es {i + 1}')"
   ]
  },
  {
   "cell_type": "code",
   "execution_count": 15,
   "id": "3a345615",
   "metadata": {},
   "outputs": [
    {
     "name": "stdout",
     "output_type": "stream",
     "text": [
      "2\n",
      "3\n",
      "4\n",
      "9\n",
      "6\n",
      "7\n",
      "10\n",
      "[2, 3, 5, 6]\n"
     ]
    }
   ],
   "source": [
    "lista = [2,3,4,9,6,7,10,[2,3,5,6]]\n",
    "\n",
    "for li in lista:\n",
    "    print(li)\n"
   ]
  },
  {
   "cell_type": "markdown",
   "id": "a9db36c1",
   "metadata": {},
   "source": [
    "Nota:\n",
    "\n",
    "el bucle se ha ejecutado 10 veces (es el argumento de la función range()) El valor de la ultima variable de control es 9 (no 10, ya que comienza en 0, no desde 1) "
   ]
  },
  {
   "cell_type": "code",
   "execution_count": 16,
   "id": "53f578b6",
   "metadata": {},
   "outputs": [
    {
     "name": "stdout",
     "output_type": "stream",
     "text": [
      "El valor de i es 2\n",
      "El valor de i es 3\n",
      "El valor de i es 4\n",
      "El valor de i es 5\n",
      "El valor de i es 6\n",
      "El valor de i es 7\n"
     ]
    }
   ],
   "source": [
    "for i in range(2,8):\n",
    "    print(f'El valor de i es {i}')"
   ]
  },
  {
   "cell_type": "code",
   "execution_count": 17,
   "id": "b5f8791c",
   "metadata": {},
   "outputs": [
    {
     "name": "stdout",
     "output_type": "stream",
     "text": [
      "El valor de i es 2\n",
      "El valor de i es 3\n",
      "El valor de i es 4\n",
      "El valor de i es 5\n",
      "El valor de i es 6\n",
      "El valor de i es 7\n"
     ]
    }
   ],
   "source": [
    "i = 2\n",
    "while i<8:\n",
    "    print(f'El valor de i es {i}')\n",
    "    i+=1"
   ]
  },
  {
   "cell_type": "markdown",
   "id": "ee70d405",
   "metadata": {},
   "source": [
    "La función range tambien puede aceptar tres argumentos"
   ]
  },
  {
   "cell_type": "code",
   "execution_count": 20,
   "id": "b1174005",
   "metadata": {},
   "outputs": [
    {
     "name": "stdout",
     "output_type": "stream",
     "text": [
      "El valor de i es 2\n",
      "El valor de i es 5\n"
     ]
    }
   ],
   "source": [
    "for i in range(2, 8, 3 ):\n",
    "    print(f'El valor de i es {i}')"
   ]
  },
  {
   "cell_type": "code",
   "execution_count": 21,
   "id": "d4f2d0ee",
   "metadata": {},
   "outputs": [
    {
     "name": "stdout",
     "output_type": "stream",
     "text": [
      "El valor de i es 2\n",
      "El valor de i es 5\n"
     ]
    }
   ],
   "source": [
    "i = 2\n",
    "while i<8:\n",
    "    print(f'El valor de i es {i}')\n",
    "    i+=3"
   ]
  },
  {
   "cell_type": "markdown",
   "id": "ec0ba7f3",
   "metadata": {},
   "source": [
    "Las sentencias break y continue\n",
    "\n",
    " `break` - Sale del bucle inmediatamente, e incondicionalmente termina la operación del bucle, el programa empieza a ejecutar la instrucción mas cercana después del cuerpo del bucle\n",
    "\n",
    " `continue` - Se comporta como si el programa hubiera llegado repentinamente al final del cuerpo; el siguiente turno se inicia y la expresión de condición se prueba de inmediato"
   ]
  },
  {
   "cell_type": "code",
   "execution_count": null,
   "id": "a0e7adf6",
   "metadata": {},
   "outputs": [
    {
     "name": "stdout",
     "output_type": "stream",
     "text": [
      "La instrucción break\n",
      "Dentro del bucle\n",
      "Dentro del bucle\n",
      "Dentro del bucle\n",
      "Fuera del bucle\n"
     ]
    }
   ],
   "source": [
    "# break - ejemplo\n",
    "\n",
    "print(\"La instrucción break\")\n",
    "for i in range(1, 6):\n",
    "    print('Dentro del bucle')\n",
    "    if i == 3:\n",
    "        break\n",
    "print('Fuera del bucle')"
   ]
  },
  {
   "cell_type": "code",
   "execution_count": 24,
   "id": "447b1f64",
   "metadata": {},
   "outputs": [
    {
     "name": "stdout",
     "output_type": "stream",
     "text": [
      "\n",
      "La instrucción continue:\n",
      "Dentro del bucle. 1\n",
      "Dentro del bucle. 2\n",
      "Dentro del bucle. 4\n",
      "Dentro del bucle. 5\n",
      "Fuera del Bucle\n"
     ]
    }
   ],
   "source": [
    "# continue\n",
    "\n",
    "print('\\nLa instrucción continue:')\n",
    "for i in range(1,6):\n",
    "    if i == 3:\n",
    "        continue\n",
    "    print(f'Dentro del bucle. {i}')\n",
    "print('Fuera del Bucle')"
   ]
  }
 ],
 "metadata": {
  "kernelspec": {
   "display_name": "Python 3",
   "language": "python",
   "name": "python3"
  },
  "language_info": {
   "codemirror_mode": {
    "name": "ipython",
    "version": 3
   },
   "file_extension": ".py",
   "mimetype": "text/x-python",
   "name": "python",
   "nbconvert_exporter": "python",
   "pygments_lexer": "ipython3",
   "version": "3.13.2"
  }
 },
 "nbformat": 4,
 "nbformat_minor": 5
}
