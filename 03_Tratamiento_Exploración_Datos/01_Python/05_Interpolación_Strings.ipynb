{
 "cells": [
  {
   "cell_type": "markdown",
   "id": "82c5a735",
   "metadata": {},
   "source": [
    "## Interpolación\n",
    "### Objetivos\n",
    "- Aprender a imprimir Strings\n",
    "- Aprender a interpolar variables dentro de strings\n",
    "\n",
    "---\n",
    "### Desarrollo\n"
   ]
  },
  {
   "cell_type": "markdown",
   "id": "5318a118",
   "metadata": {},
   "source": [
    "Podemos hacer anotaciones en los outputs de nuestro código de esta manera \n"
   ]
  },
  {
   "cell_type": "code",
   "execution_count": 5,
   "id": "ab68e7f3",
   "metadata": {},
   "outputs": [
    {
     "name": "stdout",
     "output_type": "stream",
     "text": [
      "Suma de var_1 y var_2\n",
      "38.7\n"
     ]
    }
   ],
   "source": [
    "var_1 = 15.3\n",
    "var_2 = 23.4\n",
    "\n",
    "print(\"Suma de var_1 y var_2\")\n",
    "print(var_1 + var_2)"
   ]
  },
  {
   "cell_type": "markdown",
   "id": "6823df14",
   "metadata": {},
   "source": [
    "Pero a veces resulta necesario o deseable interpolar el valor de la variable de dicho string. Para esto utilizamos las llamadas `f-strings`. El formato de una `f-strings` es el siguiente:\n",
    "\n",
    "`f\"Esto es texto {esto_es_una_variable} esto es mas texto\"` \n",
    "\n",
    "Escribiendo una `f` antes de las comillas le indicamos a Python que lo que pongas dentro de las llaves (`{}`) será código de Python. En este caso, una vatiable asignada previanente.\n",
    "\n",
    "Ahora podemos hacer lo siguiente"
   ]
  },
  {
   "cell_type": "code",
   "execution_count": 6,
   "id": "f0c863aa",
   "metadata": {},
   "outputs": [
    {
     "name": "stdout",
     "output_type": "stream",
     "text": [
      "43 mas 24.3 es: 67.3\n"
     ]
    }
   ],
   "source": [
    "var_3 = 43\n",
    "var_4 = 24.3\n",
    "\n",
    "suma = var_3 + var_4\n",
    "print (f\"{var_3} mas {var_4} es: \"+str(suma))"
   ]
  },
  {
   "cell_type": "code",
   "execution_count": 7,
   "id": "0398b101",
   "metadata": {},
   "outputs": [
    {
     "name": "stdout",
     "output_type": "stream",
     "text": [
      "La suma del programa si con los valores de 12.0 y 43.0 es 55.0\n"
     ]
    }
   ],
   "source": [
    "nombre_programa = input(\"Introduce el nombre del programa\")\n",
    "var_3 = float(input(\"Introduce el primer valor\"))\n",
    "var_4 = float(input(\"Introduce el segundo valor\"))\n",
    "\n",
    "\n",
    "suma = var_3 + var_4\n",
    "print(f\"La suma del programa {nombre_programa} con los valores de {var_3} y {var_4} es {suma}\")\n",
    "\n"
   ]
  },
  {
   "cell_type": "code",
   "execution_count": null,
   "id": "8c13abbc",
   "metadata": {},
   "outputs": [],
   "source": [
    "def sumar(var_1, var_2):\n",
    "    return var_1 + var_2\n",
    "   \n",
    "var_3 = float(input(\"Introduce el primer valor\"))\n",
    "var_4 = float(input(\"Introduce el segundo valor\"))\n",
    "\n",
    "sumar = sumar (var_3, var_4)\n",
    "print(sumar)\n",
    "\n"
   ]
  },
  {
   "cell_type": "code",
   "execution_count": 11,
   "id": "bf884467",
   "metadata": {},
   "outputs": [],
   "source": [
    "def solicitar_valor():\n",
    "    return float(input('Introduce el valor'))\n",
    "\n",
    "valor1 = solicitar_valor"
   ]
  },
  {
   "cell_type": "code",
   "execution_count": 13,
   "id": "832cecf7",
   "metadata": {},
   "outputs": [
    {
     "name": "stdout",
     "output_type": "stream",
     "text": [
      "10\n"
     ]
    }
   ],
   "source": [
    "xx = 10\n",
    "print (xx)"
   ]
  },
  {
   "cell_type": "code",
   "execution_count": null,
   "id": "e2c34564",
   "metadata": {},
   "outputs": [],
   "source": []
  }
 ],
 "metadata": {
  "kernelspec": {
   "display_name": "gym_env",
   "language": "python",
   "name": "python3"
  },
  "language_info": {
   "codemirror_mode": {
    "name": "ipython",
    "version": 3
   },
   "file_extension": ".py",
   "mimetype": "text/x-python",
   "name": "python",
   "nbconvert_exporter": "python",
   "pygments_lexer": "ipython3",
   "version": "3.10.16"
  }
 },
 "nbformat": 4,
 "nbformat_minor": 5
}
