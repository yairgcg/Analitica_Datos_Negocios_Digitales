{
 "cells": [
  {
   "cell_type": "markdown",
   "id": "3b253407",
   "metadata": {},
   "source": [
    "# Ejemplo 1: Esto es un notebook de Practica \n",
    "\n",
    "---\n",
    "\n",
    "### 1. Objetivos: \n",
    "    - Repasar rápidamente como funciona un Jupyter Notebook\n",
    "\n",
    "### 2. Requisitos:\n",
    "    - Jupyter Notebook instalado\n",
    "\n",
    "--- "
   ]
  },
  {
   "cell_type": "markdown",
   "id": "278b1e61",
   "metadata": {},
   "source": [
    "En JN tenemos `modo comando` y `modo edición`.\n",
    "\n",
    "- El `modo edición` sirve para editar celdas\n",
    "- El `modo comando` sirve para usar comandos en el JN"
   ]
  },
  {
   "cell_type": "markdown",
   "id": "a78cf9b8",
   "metadata": {},
   "source": [
    "Esto es una celda `Markdown`"
   ]
  },
  {
   "cell_type": "code",
   "execution_count": 4,
   "id": "57b130e4",
   "metadata": {},
   "outputs": [],
   "source": [
    "# Esto es una celda de código\n",
    "# y yo soy un comentario ..."
   ]
  },
  {
   "cell_type": "markdown",
   "id": "6e62c3eb",
   "metadata": {},
   "source": [
    "Escribamos algo de código para recordar:"
   ]
  },
  {
   "cell_type": "code",
   "execution_count": null,
   "id": "57f5ec41",
   "metadata": {},
   "outputs": [
    {
     "data": {
      "text/plain": [
       "9"
      ]
     },
     "execution_count": 6,
     "metadata": {},
     "output_type": "execute_result"
    }
   ],
   "source": [
    "var_1 = 4\n",
    "var_2 = 5\n",
    "\n",
    "var_1 + var_2"
   ]
  },
  {
   "cell_type": "code",
   "execution_count": 8,
   "id": "360bff79",
   "metadata": {},
   "outputs": [
    {
     "name": "stdout",
     "output_type": "stream",
     "text": [
      "4 5\n"
     ]
    }
   ],
   "source": [
    "print(var_1, var_2)"
   ]
  },
  {
   "cell_type": "code",
   "execution_count": 10,
   "id": "52fc1eb5",
   "metadata": {},
   "outputs": [
    {
     "name": "stdout",
     "output_type": "stream",
     "text": [
      "4,5\n"
     ]
    }
   ],
   "source": [
    "print(str(var_1) + ',' + str(var_2))"
   ]
  },
  {
   "cell_type": "code",
   "execution_count": 11,
   "id": "5896d709",
   "metadata": {},
   "outputs": [
    {
     "name": "stdout",
     "output_type": "stream",
     "text": [
      "9\n"
     ]
    }
   ],
   "source": [
    "print (var_1 +  var_2)"
   ]
  },
  {
   "cell_type": "code",
   "execution_count": 12,
   "id": "bd8e0c44",
   "metadata": {},
   "outputs": [
    {
     "data": {
      "text/plain": [
       "15"
      ]
     },
     "execution_count": 12,
     "metadata": {},
     "output_type": "execute_result"
    }
   ],
   "source": [
    "var_1 = 10\n",
    "var_1 + var_2"
   ]
  }
 ],
 "metadata": {
  "kernelspec": {
   "display_name": "Python 3",
   "language": "python",
   "name": "python3"
  },
  "language_info": {
   "codemirror_mode": {
    "name": "ipython",
    "version": 3
   },
   "file_extension": ".py",
   "mimetype": "text/x-python",
   "name": "python",
   "nbconvert_exporter": "python",
   "pygments_lexer": "ipython3",
   "version": "3.13.2"
  }
 },
 "nbformat": 4,
 "nbformat_minor": 5
}
