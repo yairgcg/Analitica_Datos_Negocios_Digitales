{
 "cells": [
  {
   "cell_type": "markdown",
   "id": "57bc28e3",
   "metadata": {},
   "source": [
    "># Modificando diccionarios "
   ]
  },
  {
   "cell_type": "markdown",
   "id": "9f3d66d1",
   "metadata": {},
   "source": [
    "## 1. Objetivos: \n",
    "- Practicar los 3 métodos básicos de modificación de diccionarios**agregar datos, borrar datos y modificar llaves**"
   ]
  },
  {
   "cell_type": "markdown",
   "id": "c109a967",
   "metadata": {},
   "source": [
    "## 2. Desarrollo: \n",
    "Tenemos 3 maneras básicas de modificar los diccionarios\n",
    "\n",
    "---"
   ]
  },
  {
   "cell_type": "markdown",
   "id": "c5096e24",
   "metadata": {},
   "source": [
    "### Agregar datos\n",
    "Para agregar un dato a un diccionario ya existente, basta con llamar la llave que queremos agregar y asignar un valor "
   ]
  },
  {
   "cell_type": "markdown",
   "id": "98b52097",
   "metadata": {},
   "source": []
  },
  {
   "cell_type": "code",
   "execution_count": 3,
   "id": "72d54df4",
   "metadata": {},
   "outputs": [],
   "source": [
    "from  pprint import pprint \n",
    "\n",
    "info_de_contacto = {\n",
    "'nombre': 'Maluma',\n",
    "'tel': '5618441424',\n",
    "'dir': {\n",
    "    'colonia': 'El 61',\n",
    "    'calle': 'Pirineoa',\n",
    "    'cp': 44250\n",
    "}\n",
    "\n",
    "}"
   ]
  },
  {
   "cell_type": "code",
   "execution_count": null,
   "id": "89bd4b14",
   "metadata": {},
   "outputs": [],
   "source": [
    "print(info_de_contacto)"
   ]
  },
  {
   "cell_type": "code",
   "execution_count": null,
   "id": "0cd9bd2f",
   "metadata": {},
   "outputs": [],
   "source": [
    "info_de_contacto['email'] = 'maluma_hasta_abajo@reggaechafa.com'\n",
    "print(info_de_contacto)"
   ]
  },
  {
   "cell_type": "markdown",
   "id": "0d40de31",
   "metadata": {},
   "source": [
    "## Modificando pares llave-valor existentes\n",
    "\n",
    "Para modificar un par llave-valor ya exidtente, basta con reasignar a una llave de nuestro diccionario al nuevo valor que queremos agregar. Por ejemplo, imaginemos que esta persona cambió de dirección: "
   ]
  },
  {
   "cell_type": "code",
   "execution_count": 4,
   "id": "60620248",
   "metadata": {},
   "outputs": [],
   "source": [
    "info_de_contacto ['dir'] = { \n",
    "    'colonia': 'Escándalo',\n",
    "    'cale': 'Progreso', \n",
    "    'número': 189,\n",
    "    'cp': 54250,    \n",
    "} "
   ]
  },
  {
   "cell_type": "code",
   "execution_count": 5,
   "id": "fc88e817",
   "metadata": {},
   "outputs": [],
   "source": [
    "info_de_contacto['dir']['colonia'] = 'SaltasiPuedes'"
   ]
  },
  {
   "cell_type": "markdown",
   "id": "413d8628",
   "metadata": {},
   "source": [
    "Podemos incluso modificar estructuras de datos denteo de nuestro diccionario. Por ejemplo, ¿Qié tal si huboun error al agregar ña mieva dorecco+pm y ahora tenemos que cambiar solamente el número:"
   ]
  },
  {
   "cell_type": "code",
   "execution_count": 6,
   "id": "73f3adbc",
   "metadata": {},
   "outputs": [],
   "source": [
    "info_de_contacto ['dir']['num'] = 666"
   ]
  },
  {
   "cell_type": "code",
   "execution_count": 7,
   "id": "d209a580",
   "metadata": {},
   "outputs": [
    {
     "name": "stdout",
     "output_type": "stream",
     "text": [
      "{'nombre': 'Maluma', 'tel': '5618441424', 'dir': {'colonia': 'SaltasiPuedes', 'cale': 'Progreso', 'número': 189, 'cp': 54250, 'num': 666}}\n"
     ]
    }
   ],
   "source": [
    "print(info_de_contacto)"
   ]
  },
  {
   "cell_type": "code",
   "execution_count": null,
   "id": "87473cd1",
   "metadata": {},
   "outputs": [],
   "source": []
  },
  {
   "cell_type": "markdown",
   "id": "f45b2bf7",
   "metadata": {},
   "source": [
    "## Eliminando datos\n",
    "\n",
    "Para eliminar datos, se puede utilizar el método pop(). Como se recordará el nombre de este método es identico al método para eliminar elementos de una lista. La diferencia es que el método pop() de las listas recibe índices como argumentos, el método `pop` de diccionario recibe llaves como argumentos. "
   ]
  },
  {
   "cell_type": "code",
   "execution_count": 9,
   "id": "0c30a9a6",
   "metadata": {},
   "outputs": [
    {
     "name": "stdout",
     "output_type": "stream",
     "text": [
      "{'nombre': 'Maluma', 'dir': {'colonia': 'SaltasiPuedes', 'cale': 'Progreso', 'número': 189, 'cp': 54250, 'num': 666}}\n"
     ]
    }
   ],
   "source": [
    "info_de_contacto.pop('tel')\n",
    "print(info_de_contacto)"
   ]
  },
  {
   "cell_type": "code",
   "execution_count": null,
   "id": "36caf67e",
   "metadata": {},
   "outputs": [],
   "source": [
    "info_de_contacto.pop(['email', 'nombre'])"
   ]
  }
 ],
 "metadata": {
  "kernelspec": {
   "display_name": "base",
   "language": "python",
   "name": "python3"
  },
  "language_info": {
   "codemirror_mode": {
    "name": "ipython",
    "version": 3
   },
   "file_extension": ".py",
   "mimetype": "text/x-python",
   "name": "python",
   "nbconvert_exporter": "python",
   "pygments_lexer": "ipython3",
   "version": "3.12.7"
  }
 },
 "nbformat": 4,
 "nbformat_minor": 5
}
