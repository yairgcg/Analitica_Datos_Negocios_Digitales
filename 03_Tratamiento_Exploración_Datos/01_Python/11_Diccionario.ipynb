{
 "cells": [
  {
   "cell_type": "markdown",
   "id": "153d131d",
   "metadata": {},
   "source": [
    "># Crear y accesar a los diccionarios"
   ]
  },
  {
   "cell_type": "markdown",
   "id": "aa098346",
   "metadata": {},
   "source": [
    "## Objetivo\n",
    "- Aprender a crear diccionarios con pares llaves-valor\n",
    "- Aprendr a accesar a los valores guardados en el diccionario \n",
    "\n",
    "---"
   ]
  },
  {
   "cell_type": "markdown",
   "id": "7b8c83a0",
   "metadata": {},
   "source": [
    "## Desarrollo: \n",
    "\n",
    "Los diccionarios se definen usando (`{}`)"
   ]
  },
  {
   "cell_type": "code",
   "execution_count": null,
   "id": "12c537e7",
   "metadata": {},
   "outputs": [],
   "source": [
    "diccionario_1 = {}"
   ]
  },
  {
   "cell_type": "markdown",
   "id": "8cdc4351",
   "metadata": {},
   "source": [
    "diccionario_1 ya es un diccionario solo que está vacío. Para incluir datos dentro de un diccionario tenemos que agregar pares llave-valor debtri de kas kkavves ({}), cada par, guión, valor se separa con una (,):"
   ]
  },
  {
   "cell_type": "markdown",
   "id": "d87f73a1",
   "metadata": {},
   "source": []
  },
  {
   "cell_type": "code",
   "execution_count": null,
   "id": "40935da1",
   "metadata": {},
   "outputs": [],
   "source": [
    "diccionario_2 = {\n",
    "    \"llave_1\":\"valor_1\",\n",
    "    \"llave_2\":\"valor_2\",\n",
    "    \"llave_3\":\"valor_3\",\n",
    "    \"llave_4\":\"valor_4\"\n",
    "}"
   ]
  },
  {
   "cell_type": "markdown",
   "id": "312df78f",
   "metadata": {},
   "source": [
    "Nuestras llaves pueden ser tanto  `string ` como `int's`, (pueden ser otras cosas, pero estos son los más comúnes)"
   ]
  },
  {
   "cell_type": "code",
   "execution_count": null,
   "id": "4b337b4e",
   "metadata": {},
   "outputs": [],
   "source": [
    "diccionario_3 = {\n",
    "    1: \"Uno\", \n",
    "    2: \"Dos\",\n",
    "    3: \"Tres\",\n",
    "    4: \"Cuatro\"\n",
    "}"
   ]
  },
  {
   "cell_type": "markdown",
   "id": "51961d5d",
   "metadata": {},
   "source": [
    "Nuestros valores pueden ser cualquier tipo de dato que se conozca hasta este momento."
   ]
  },
  {
   "cell_type": "code",
   "execution_count": 6,
   "id": "dc9f3d22",
   "metadata": {},
   "outputs": [],
   "source": [
    "diccionario_4= {\n",
    "    'int': 123,\n",
    "    'float': 12.4,\n",
    "    'string': 'Hola',\n",
    "    'boolean': True,\n",
    "    'lista': (1, 2, 3, 4),\n",
    "    'diccionario': {\n",
    "        1: 'uno',\n",
    "        2: 'dos'\n",
    "    }\n",
    "}"
   ]
  },
  {
   "cell_type": "markdown",
   "id": "93ebcf94",
   "metadata": {},
   "source": [
    "Acceder a un diccinario es tan fácil como escribir el nombre del diccionario, agregar corchetes ('[]')  y pasarle el nombre de la llave (clave) que quieres acceder. Por obvias razones, un diccionario no puede tener más de una llave con el mismo nombre. Si tenemos otras estructuras de datos dentro de nuestro diccionario, podemos acceder a los elementos dentro de ellas después de haber accedido primero a toda la estructura de datos:"
   ]
  },
  {
   "cell_type": "code",
   "execution_count": 16,
   "id": "eb0dedee",
   "metadata": {},
   "outputs": [
    {
     "name": "stdout",
     "output_type": "stream",
     "text": [
      "12.4\n",
      "True\n",
      "(1, 2, 3, 4)\n",
      "3\n"
     ]
    }
   ],
   "source": [
    "print(diccionario_4['float'])\n",
    "#Valor de True e imprimir 3 de la lista\n",
    "print(diccionario_4['boolean'])\n",
    "print(diccionario_4['lista'])\n",
    "print(diccionario_4['lista'][2])\n",
    "\n"
   ]
  },
  {
   "cell_type": "code",
   "execution_count": null,
   "id": "e8ab6928",
   "metadata": {},
   "outputs": [],
   "source": []
  }
 ],
 "metadata": {
  "kernelspec": {
   "display_name": "base",
   "language": "python",
   "name": "python3"
  },
  "language_info": {
   "codemirror_mode": {
    "name": "ipython",
    "version": 3
   },
   "file_extension": ".py",
   "mimetype": "text/x-python",
   "name": "python",
   "nbconvert_exporter": "python",
   "pygments_lexer": "ipython3",
   "version": "3.12.7"
  }
 },
 "nbformat": 4,
 "nbformat_minor": 5
}
