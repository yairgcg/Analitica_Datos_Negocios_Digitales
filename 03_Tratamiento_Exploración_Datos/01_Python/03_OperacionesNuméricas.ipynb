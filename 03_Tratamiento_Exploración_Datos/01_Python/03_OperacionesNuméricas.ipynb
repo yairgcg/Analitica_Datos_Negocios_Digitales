{
 "cells": [
  {
   "cell_type": "markdown",
   "id": "fd8a2e6c",
   "metadata": {},
   "source": [
    "## Operaciones numéricas\n",
    "\n",
    "### Objetivos:\n",
    "\n",
    "- Mostrar como utilizar los operadores aritméticos\n",
    "\n",
    "### Desarrollo\n"
   ]
  },
  {
   "cell_type": "markdown",
   "id": "1ed3b039",
   "metadata": {},
   "source": [
    "Primero vamos a asignar unas variables\n",
    "\n"
   ]
  },
  {
   "cell_type": "code",
   "execution_count": null,
   "id": "9bcd8605",
   "metadata": {},
   "outputs": [
    {
     "name": "stdout",
     "output_type": "stream",
     "text": [
      "3 54 23 89\n"
     ]
    }
   ],
   "source": [
    "var_1 = 3\n",
    "var_2 = 54\n",
    "var_3 = 23\n",
    "var_4 = 89\n"
   ]
  },
  {
   "cell_type": "code",
   "execution_count": null,
   "id": "f2ee5ee2",
   "metadata": {},
   "outputs": [
    {
     "name": "stdout",
     "output_type": "stream",
     "text": [
      "3-54-23-89\n",
      "3 54 23 89 El valor de la variable var_1:3\n"
     ]
    }
   ],
   "source": [
    "print(var_1, var_2, var_3, var_4, sep='-')\n",
    "print(var_1, var_2, var_3, var_4, end=' ')\n",
    "\n",
    "print('El valor de la variable var_1: '+str(var_1))\n"
   ]
  },
  {
   "cell_type": "code",
   "execution_count": 13,
   "id": "6f9bf506",
   "metadata": {},
   "outputs": [
    {
     "data": {
      "text/plain": [
       "1"
      ]
     },
     "execution_count": 13,
     "metadata": {},
     "output_type": "execute_result"
    }
   ],
   "source": [
    "var_1 + var_2\n",
    "var_2 - var_4\n",
    "var_3 * var_2\n",
    "var_4 // var_2"
   ]
  },
  {
   "cell_type": "markdown",
   "id": "c22537c4",
   "metadata": {},
   "source": [
    "Operaciones numéricas\n",
    "---\n",
    "| Operador | Nombre                  | Descripción                                 | Ejemplo        | Resultado |\n",
    "|----------|-------------------------|---------------------------------------------|----------------|-----------|\n",
    "| `+`      | Suma                    | Suma de dos operandos                        | `5 + 3`        | `8`       |\n",
    "| `-`      | Resta                   | Resta del segundo operando al primero        | `5 - 3`        | `2`       |\n",
    "| `*`      | Multiplicación          | Producto de dos operandos                    | `5 * 3`        | `15`      |\n",
    "| `/`      | División                | División del primero entre el segundo       | `5 / 2`        | `2.5`     |\n",
    "| `//`     | División entera         | División y redondeo hacia abajo             | `5 // 2`       | `2`       |\n",
    "| `%`      | Módulo (residuo)        | Residuo de la división                      | `5 % 2`        | `1`       |\n",
    "| `**`     | Exponente               | Potencia del primer operando al segundo     | `2 ** 3`       | `8`       |"
   ]
  },
  {
   "cell_type": "markdown",
   "id": "34d69c56",
   "metadata": {},
   "source": [
    "1/2"
   ]
  },
  {
   "cell_type": "code",
   "execution_count": 15,
   "id": "ebec9a3a",
   "metadata": {},
   "outputs": [
    {
     "data": {
      "text/plain": [
       "157464"
      ]
     },
     "execution_count": 15,
     "metadata": {},
     "output_type": "execute_result"
    }
   ],
   "source": [
    "var_2 ** var_1"
   ]
  },
  {
   "cell_type": "code",
   "execution_count": 16,
   "id": "ef32790f",
   "metadata": {},
   "outputs": [
    {
     "data": {
      "text/plain": [
       "3"
      ]
     },
     "execution_count": 16,
     "metadata": {},
     "output_type": "execute_result"
    }
   ],
   "source": [
    "var_1 % var_2"
   ]
  },
  {
   "cell_type": "code",
   "execution_count": 18,
   "id": "c61761bd",
   "metadata": {},
   "outputs": [
    {
     "name": "stdout",
     "output_type": "stream",
     "text": [
      "57\n",
      "162\n",
      "58149737003040059690390169\n"
     ]
    }
   ],
   "source": [
    "print(var_1+var_2)\n",
    "print(var_1*var_2)\n",
    "print(var_1**var_2)"
   ]
  },
  {
   "cell_type": "markdown",
   "id": "0f88ff6b",
   "metadata": {},
   "source": [
    "Tambien se puede asignar los resultados de las operaciones a otras variables"
   ]
  },
  {
   "cell_type": "code",
   "execution_count": 19,
   "id": "1737c203",
   "metadata": {},
   "outputs": [
    {
     "data": {
      "text/plain": [
       "57"
      ]
     },
     "execution_count": 19,
     "metadata": {},
     "output_type": "execute_result"
    }
   ],
   "source": [
    "resultado = var_1 + var_2 \n",
    "resultado"
   ]
  },
  {
   "cell_type": "markdown",
   "id": "b9c04298",
   "metadata": {},
   "source": []
  },
  {
   "cell_type": "markdown",
   "id": "f71a48b1",
   "metadata": {},
   "source": [
    "## Tipos de datos\n",
    "\n",
    "### Objetivos\n",
    "\n",
    "- Hablar sobre los 4 tipos de datos básicos que tiene Python \n",
    "\n",
    "--- \n",
    "\n",
    "### Desarrollo"
   ]
  },
  {
   "cell_type": "markdown",
   "id": "d175713a",
   "metadata": {},
   "source": [
    "Se tienen 4 tipos de datos básicos. Veamos en código y utilicemos las funciones print \n",
    "`print` y `type` para imprimir los tipos de manera explícita\n",
    "\n"
   ]
  },
  {
   "cell_type": "code",
   "execution_count": null,
   "id": "78426499",
   "metadata": {},
   "outputs": [
    {
     "name": "stdout",
     "output_type": "stream",
     "text": [
      "<class 'int'>\n",
      "369.432\n",
      "<class 'float'>\n",
      "Yo soy un string\n",
      "<class 'str'>\n",
      "<class 'bool'>\n"
     ]
    }
   ],
   "source": [
    "# Este es un numero\n",
    "var_int = 4598\n",
    "print(type(var_int))\n",
    "\n",
    "\n",
    "# Este es un numero decimal\n",
    "var_float = 369.432\n",
    "print(var_float)\n",
    "print(type(var_float))\n",
    "\n",
    "# Este es un string\n",
    "var_string = \"Yo soy un string\"\n",
    "print(var_string)\n",
    "print(type(var_string))\n",
    "\n",
    "\n",
    "var_bool = True\n",
    "print(type(var_bool))\n",
    "\n",
    "var_bool = True\n",
    "print(type(var_bool))\n",
    "\n",
    "\n",
    "\n",
    "\n",
    "\n"
   ]
  },
  {
   "cell_type": "code",
   "execution_count": null,
   "id": "aa9990bd",
   "metadata": {},
   "outputs": [],
   "source": []
  }
 ],
 "metadata": {
  "kernelspec": {
   "display_name": "gym_env",
   "language": "python",
   "name": "python3"
  },
  "language_info": {
   "codemirror_mode": {
    "name": "ipython",
    "version": 3
   },
   "file_extension": ".py",
   "mimetype": "text/x-python",
   "name": "python",
   "nbconvert_exporter": "python",
   "pygments_lexer": "ipython3",
   "version": "3.10.16"
  }
 },
 "nbformat": 4,
 "nbformat_minor": 5
}
