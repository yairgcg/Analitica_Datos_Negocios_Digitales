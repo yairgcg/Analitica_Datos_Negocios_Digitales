{
 "cells": [
  {
   "cell_type": "markdown",
   "id": "c81d80ce",
   "metadata": {},
   "source": [
    "# Limpieza y transformación de datos"
   ]
  },
  {
   "cell_type": "code",
   "execution_count": null,
   "id": "b8683609",
   "metadata": {},
   "outputs": [],
   "source": [
    "import pandas as pd\n",
    "import numpy as np \n",
    "import matplotlib.pyplot as pit"
   ]
  },
  {
   "cell_type": "code",
   "execution_count": null,
   "id": "4819cf27",
   "metadata": {},
   "outputs": [],
   "source": [
    "salaries = pd.read_csv('datasets/linkedin-jobs-usa.csv')"
   ]
  },
  {
   "cell_type": "code",
   "execution_count": null,
   "id": "8334bed6",
   "metadata": {},
   "outputs": [],
   "source": [
    "salaries.info()"
   ]
  },
  {
   "cell_type": "markdown",
   "id": "d0264170",
   "metadata": {},
   "source": [
    "## Tratamiento de duplicados"
   ]
  },
  {
   "cell_type": "code",
   "execution_count": null,
   "id": "0d15bf7f",
   "metadata": {},
   "outputs": [],
   "source": [
    "salaries.drop_duplicates()"
   ]
  },
  {
   "cell_type": "code",
   "execution_count": null,
   "id": "fbc35615",
   "metadata": {},
   "outputs": [],
   "source": [
    "salaries_limpieza = salaries_limpieza.drop.duplicate"
   ]
  },
  {
   "cell_type": "code",
   "execution_count": null,
   "id": "03de7f56",
   "metadata": {},
   "outputs": [],
   "source": [
    "salaries_limpieza = salaries.copy"
   ]
  },
  {
   "cell_type": "code",
   "execution_count": null,
   "id": "22fb40d8",
   "metadata": {},
   "outputs": [],
   "source": [
    "salaries_limpieza.duplicated().sum()\n"
   ]
  },
  {
   "cell_type": "code",
   "execution_count": null,
   "id": "111a489d",
   "metadata": {},
   "outputs": [],
   "source": [
    "salaries_limpieza[salaries_limpieza.duplicated()]"
   ]
  },
  {
   "cell_type": "markdown",
   "id": "147fd099",
   "metadata": {},
   "source": [
    "## 1era Opción: Eliminar los valores nulos\n",
    "### Visualizar los valores nulos"
   ]
  },
  {
   "cell_type": "code",
   "execution_count": null,
   "id": "f97e11c2",
   "metadata": {},
   "outputs": [],
   "source": [
    "df_sin_nulos = salaries.dropna()"
   ]
  },
  {
   "cell_type": "code",
   "execution_count": null,
   "id": "362a9be1",
   "metadata": {},
   "outputs": [],
   "source": [
    "df_sin_nulos = salaries.dropna()\n",
    "salaries_limpieza.isna()"
   ]
  },
  {
   "cell_type": "code",
   "execution_count": null,
   "id": "b68f192a",
   "metadata": {},
   "outputs": [],
   "source": [
    "print(f\"Valores NaN por columna {salaries_limpieza.Isna().sum}\")"
   ]
  },
  {
   "cell_type": "code",
   "execution_count": null,
   "id": "96cb6cf0",
   "metadata": {},
   "outputs": [],
   "source": [
    "df_sin_nulos = salaries.dropna()\n",
    "df_sin_nulos_columnas = salaries.droopna(axis=1)"
   ]
  },
  {
   "cell_type": "code",
   "execution_count": null,
   "id": "8f8c6dce",
   "metadata": {},
   "outputs": [],
   "source": [
    "df_sin_nulos['salaries'].head()\n",
    "df_sin_nulos.shape"
   ]
  },
  {
   "cell_type": "code",
   "execution_count": 32,
   "id": "810faadb",
   "metadata": {},
   "outputs": [
    {
     "name": "stdout",
     "output_type": "stream",
     "text": [
      "\u001b[1;31mType:\u001b[0m        list\n",
      "\u001b[1;31mString form:\u001b[0m [1, 2, 3]\n",
      "\u001b[1;31mLength:\u001b[0m      3\n",
      "\u001b[1;31mDocstring:\u001b[0m  \n",
      "Built-in mutable sequence.\n",
      "\n",
      "If no argument is given, the constructor creates a new empty list.\n",
      "The argument must be an iterable if specified."
     ]
    }
   ],
   "source": [
    "import datetime\n",
    "\n",
    "b = [1,2,3]\n",
    "b?"
   ]
  },
  {
   "cell_type": "code",
   "execution_count": 33,
   "id": "3ccf06ac",
   "metadata": {},
   "outputs": [
    {
     "name": "stdout",
     "output_type": "stream",
     "text": [
      "\u001b[1;31mSignature:\u001b[0m \u001b[0mprint\u001b[0m\u001b[1;33m(\u001b[0m\u001b[1;33m*\u001b[0m\u001b[0margs\u001b[0m\u001b[1;33m,\u001b[0m \u001b[0msep\u001b[0m\u001b[1;33m=\u001b[0m\u001b[1;34m' '\u001b[0m\u001b[1;33m,\u001b[0m \u001b[0mend\u001b[0m\u001b[1;33m=\u001b[0m\u001b[1;34m'\\n'\u001b[0m\u001b[1;33m,\u001b[0m \u001b[0mfile\u001b[0m\u001b[1;33m=\u001b[0m\u001b[1;32mNone\u001b[0m\u001b[1;33m,\u001b[0m \u001b[0mflush\u001b[0m\u001b[1;33m=\u001b[0m\u001b[1;32mFalse\u001b[0m\u001b[1;33m)\u001b[0m\u001b[1;33m\u001b[0m\u001b[1;33m\u001b[0m\u001b[0m\n",
      "\u001b[1;31mDocstring:\u001b[0m\n",
      "Prints the values to a stream, or to sys.stdout by default.\n",
      "\n",
      "sep\n",
      "  string inserted between values, default a space.\n",
      "end\n",
      "  string appended after the last value, default a newline.\n",
      "file\n",
      "  a file-like object (stream); defaults to the current sys.stdout.\n",
      "flush\n",
      "  whether to forcibly flush the stream.\n",
      "\u001b[1;31mType:\u001b[0m      builtin_function_or_method"
     ]
    }
   ],
   "source": [
    "print?"
   ]
  },
  {
   "cell_type": "code",
   "execution_count": 34,
   "id": "314641d4",
   "metadata": {},
   "outputs": [
    {
     "name": "stdout",
     "output_type": "stream",
     "text": [
      "np.__loader__\n",
      "np.load\n",
      "np.loadtxt"
     ]
    }
   ],
   "source": [
    "np.*load*?"
   ]
  },
  {
   "cell_type": "code",
   "execution_count": null,
   "id": "997f448c",
   "metadata": {},
   "outputs": [],
   "source": []
  }
 ],
 "metadata": {
  "kernelspec": {
   "display_name": "base",
   "language": "python",
   "name": "python3"
  },
  "language_info": {
   "codemirror_mode": {
    "name": "ipython",
    "version": 3
   },
   "file_extension": ".py",
   "mimetype": "text/x-python",
   "name": "python",
   "nbconvert_exporter": "python",
   "pygments_lexer": "ipython3",
   "version": "3.12.7"
  }
 },
 "nbformat": 4,
 "nbformat_minor": 5
}
