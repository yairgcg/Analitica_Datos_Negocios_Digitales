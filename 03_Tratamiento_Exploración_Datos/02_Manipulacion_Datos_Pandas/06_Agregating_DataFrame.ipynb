{
 "cells": [
  {
   "cell_type": "markdown",
   "id": "67c70ed2",
   "metadata": {},
   "source": [
    "# Agregating Dataframes\n",
    "En este notebook, se calcularán estadísticas de resumen en columnas del dataframe y dominarás las estadística agrupadas y tablas dinámicas (pivots tables)\n"
   ]
  },
  {
   "cell_type": "markdown",
   "id": "c90f8c6e",
   "metadata": {},
   "source": [
    "## Estadísticas de Resumen \n",
    "Media y mediana \n",
    "Las estadísticas son exactamentes lo que parecen: resumen muchos números en una sola estadística. Por ejemplo, la media, la mediana, el mínimo, y la desviación típica (desviación estándar) son estadísticas de resumen. Calcular estadísticas de resumen. calcular estadísticas de resumen te permite hacette una mejor idea de tus datos, aunque sean muchos.\n",
    "\n",
    "**Instrucciones**\n",
    "\n",
    "- Explorar el nuevo dataframe imprimiendo las primeras filas del dataframe walmart_sales\n",
    "- Imprimir información sobre las columnas\n",
    "- Imprimir la media de la columna weekly_sales\n",
    "- Imprimir la mediana de la columna weekly_sales\n"
   ]
  },
  {
   "cell_type": "markdown",
   "id": "57456a07",
   "metadata": {},
   "source": []
  },
  {
   "cell_type": "code",
   "execution_count": null,
   "id": "60ce6f17",
   "metadata": {},
   "outputs": [],
   "source": [
    "# Importación de librerias\n",
    "import pandas as pd\n",
    "sales = pd.read_csv('./datasets/walmart_sales.csv')\n"
   ]
  },
  {
   "cell_type": "code",
   "execution_count": null,
   "id": "a9a92ad5",
   "metadata": {},
   "outputs": [],
   "source": [
    "sales.info()"
   ]
  },
  {
   "cell_type": "code",
   "execution_count": null,
   "id": "d8019edd",
   "metadata": {},
   "outputs": [],
   "source": [
    "sales.describe()"
   ]
  },
  {
   "cell_type": "code",
   "execution_count": null,
   "id": "2a82e230",
   "metadata": {},
   "outputs": [],
   "source": [
    "sales.Weekly_Sales"
   ]
  },
  {
   "cell_type": "code",
   "execution_count": null,
   "id": "0941e419",
   "metadata": {},
   "outputs": [],
   "source": [
    "sales['Weekly_Sales'].mean"
   ]
  },
  {
   "cell_type": "code",
   "execution_count": null,
   "id": "647236cb",
   "metadata": {},
   "outputs": [],
   "source": [
    "# Sacar la mediana \n",
    "round(sales['Weekly_Sales'].mean(),2)\n"
   ]
  },
  {
   "cell_type": "code",
   "execution_count": null,
   "id": "18d0b858",
   "metadata": {},
   "outputs": [],
   "source": [
    "# Mediana de la collumna weekly_sales\n",
    "sales['Weekly_Sales'].median()"
   ]
  },
  {
   "cell_type": "markdown",
   "id": "c3ee31d7",
   "metadata": {},
   "source": [
    "## Resumir Fechas\n",
    "Las estatísticas sumarias también pueden calcularse sobre columnas de fecha que tengan valores con el tipo de datos datetime64. Algunas estadística de resumen no tienen mucho sentido en las fechas, pero otras son extremadamente útiles, como por ejemplo el mínimo y el máximo, que te permiten ver que intervalo de tiempo abarcan tus datos.\n",
    "\n",
    "**Instrucciones**\n",
    "- Imprimir el máximo de la columna date\n",
    "- Imprimir el mínimo de la columna date\n"
   ]
  },
  {
   "cell_type": "code",
   "execution_count": null,
   "id": "78ea48c0",
   "metadata": {},
   "outputs": [],
   "source": [
    "sales['Date'].max()\n",
    "sales[\"Date2\"] = sales[\"Date\"].astype(\"datetime64[ns]\")"
   ]
  },
  {
   "cell_type": "code",
   "execution_count": null,
   "id": "326b8d1c",
   "metadata": {},
   "outputs": [],
   "source": [
    "sales['Date2'].min()"
   ]
  },
  {
   "cell_type": "code",
   "execution_count": null,
   "id": "a831ab7c",
   "metadata": {},
   "outputs": [],
   "source": []
  },
  {
   "cell_type": "markdown",
   "id": "793aa7e8",
   "metadata": {},
   "source": [
    "# Funvión agg\n",
    "Permite aplicar tus propias funciones personalizadas a un dataframe, asi como aplicar funciones a más de una columna de un dataframe a la vez, haciendo que tus agregaciones sean muy eficientes \n",
    "\n",
    "`df[column].agg(function)`"
   ]
  },
  {
   "cell_type": "code",
   "execution_count": null,
   "id": "bfb8e4ba",
   "metadata": {},
   "outputs": [],
   "source": [
    "import numpy as np\n"
   ]
  },
  {
   "cell_type": "code",
   "execution_count": null,
   "id": "c13f9911",
   "metadata": {},
   "outputs": [],
   "source": [
    "# Función personalizada que calcula el IQR\n",
    "def iqr(column):\n",
    "    return column.quantile(0.75) - column.quantile(0.25)\n",
    "\n",
    "# Imprimir IQR de la columna Temperatura \n",
    "print (sales['Temperature'].quantile(0.75))\n",
    "print (sales['Temperature'].quantile(0.25))\n",
    "print(sales['Temperature'].agg(iqr))\n",
    "print(sales['Temperature'].agg(['mean', 'median', 'max', 'min']))\n"
   ]
  },
  {
   "cell_type": "code",
   "execution_count": null,
   "id": "87cf0406",
   "metadata": {},
   "outputs": [],
   "source": []
  },
  {
   "cell_type": "markdown",
   "id": "3a21fcf3",
   "metadata": {},
   "source": [
    "Aunque Pandas y Numpy tienen muchas funciones, a veces puedes necesitar una información diferente para resumir los datos. \n",
    "\n",
    "En la función personalizada para este ejercicio \"IQR\" es la abreviatura del rango intercuantilico, que es el percentil 75 menos el percentil 25. Es una alternatica a la desviación típica (estándar) que resulta útil si tus datos contienen valores atípicos.\n",
    "\n",
    "**Instrucciones**\n",
    "1. Utiliza la función personalizada IQR definida por ti junto con el método .agg() para imprimir la IQR de la columna temperatura_c de sales\n",
    "2. Actualiza la selección de columnas para utilizar la función personalizada IQR con agg para imprimir los IQR de las columnas temperature, fuel_price, unemployed, en orden \n",
    "3. Actualiza las llamadas a la función agg() para obtener el rango intercuantilico y la media en ese orden."
   ]
  },
  {
   "cell_type": "code",
   "execution_count": null,
   "id": "59a71367",
   "metadata": {},
   "outputs": [],
   "source": [
    "import numpy as np\n",
    "\n",
    "def IQR(columna):\n",
    "    return columna.quantile(0.75) - columna.quantile(0.25)\n"
   ]
  },
  {
   "cell_type": "code",
   "execution_count": null,
   "id": "d99dbea4",
   "metadata": {},
   "outputs": [],
   "source": [
    "# Imprimir IQR de la columna temperature\n",
    "print(f'EL IQR de Temperatura {sales['Temperature'].agg(iqr)}')\n",
    "\n",
    "# Actualizar la impresión del IQR de temperatura, Fuel_price, unemployment\n",
    "print({sales[['Temperature', 'Fuel_Price', 'Unemployment']]}).agg(iqr)\n"
   ]
  },
  {
   "cell_type": "code",
   "execution_count": null,
   "id": "56109019",
   "metadata": {},
   "outputs": [],
   "source": [
    "print(sales[['Temperature', 'Fuel_Price', 'Unemployment']]).agg(iqr, np.median)"
   ]
  },
  {
   "cell_type": "code",
   "execution_count": null,
   "id": "7ca7d018",
   "metadata": {},
   "outputs": [],
   "source": [
    "print(sales[['Temperature', 'Fuel_Price', 'Unemployment']]).agg(iqr, 'median')"
   ]
  },
  {
   "cell_type": "code",
   "execution_count": null,
   "id": "6f787fea",
   "metadata": {},
   "outputs": [],
   "source": [
    "print(sales[['Temperature', 'Fuel_Price', 'Unemployment']].agg(iqr, 'median', 'mean', 'max', 'min'))"
   ]
  },
  {
   "cell_type": "code",
   "execution_count": null,
   "id": "fb255c0b",
   "metadata": {},
   "outputs": [],
   "source": [
    "def convertirCentrigrados (temperatura):\n",
    "    return (faren -32) / 1.8"
   ]
  },
  {
   "cell_type": "code",
   "execution_count": null,
   "id": "502ad1dc",
   "metadata": {},
   "outputs": [],
   "source": [
    "temp_min = sales['Temperature'].min()\n",
    "temp_max = sales['Temperature'].max()\n",
    "print(temp_min)\n"
   ]
  },
  {
   "cell_type": "code",
   "execution_count": null,
   "id": "660e4e88",
   "metadata": {},
   "outputs": [],
   "source": [
    "sales[sales['Temperature'].min(), sales['Temperature'].max()]\n",
    "print(f'La temperatura {temp_min} en centigrados  convertirCentrigrados(temp_min)')\n",
    "print(f'La temperatura {temp_max} en centigrados  convertirCentrigrados(temp_min)')"
   ]
  },
  {
   "cell_type": "code",
   "execution_count": null,
   "id": "431a10c4",
   "metadata": {},
   "outputs": [],
   "source": [
    "sales['Temperature_Celcius'] = sales[['Temperature']].agg(convertirCentrigrados)\n",
    "\n",
    "sales['Temperature'].sort_values([])\n",
    "sales[['Temperature', 'Temperature_Celcious']]\n"
   ]
  },
  {
   "cell_type": "markdown",
   "id": "5a5925ec",
   "metadata": {},
   "source": [
    "## Estadísticas acumuladas\n",
    "\n",
    "Las estadísticas acumulativas también pueden ser útiles para hacer un seguimiento de las estadísticas resumidas a lo largo del tiempo. En este ejercicio, calcularás la suma acumulada y el máximo acumulado de las ventas semanales de un departamento, lo que te permitirá identificar cuáles han sido las ventas totales hasta el momento, así como cuáles han sido las ventas semanales más elevadas hasta el momento.\n",
    "\n",
    "**Instrucciones**\n",
    "\n",
    "- Ordena las filas de sales_1_1 por la columna date en orden ascendente.\n",
    "- Obtén la suma acumulada de weekly_sales y añádelo como una nueva columna de sales_1_1 llamada cum_weekly_sales.\n",
    "- Obtén el máximo acumulado de weekly_sales, y añádelo como una columna llamada cum_max_sales.\n",
    "- Imprime las columnas date, weekly_sales, cum_weekly_sales, y cum_max_sales."
   ]
  },
  {
   "cell_type": "markdown",
   "id": "f8bcc6d1",
   "metadata": {},
   "source": []
  }
 ],
 "metadata": {
  "kernelspec": {
   "display_name": "base",
   "language": "python",
   "name": "python3"
  },
  "language_info": {
   "codemirror_mode": {
    "name": "ipython",
    "version": 3
   },
   "file_extension": ".py",
   "mimetype": "text/x-python",
   "name": "python",
   "nbconvert_exporter": "python",
   "pygments_lexer": "ipython3",
   "version": "3.12.7"
  }
 },
 "nbformat": 4,
 "nbformat_minor": 5
}
