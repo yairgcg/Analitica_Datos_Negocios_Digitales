{
 "cells": [
  {
   "cell_type": "markdown",
   "id": "cabf647a",
   "metadata": {},
   "source": [
    "# Transformación de Dataframes"
   ]
  },
  {
   "cell_type": "markdown",
   "id": "467573b5",
   "metadata": {},
   "source": [
    "## Inspeccionar un dataframe\n",
    " "
   ]
  },
  {
   "cell_type": "markdown",
   "id": "9782baf8",
   "metadata": {},
   "source": []
  },
  {
   "cell_type": "code",
   "execution_count": null,
   "id": "9d7a3bcf",
   "metadata": {},
   "outputs": [],
   "source": [
    "# Importa la libreria de Pandas\n",
    "import pandas as pd"
   ]
  },
  {
   "cell_type": "code",
   "execution_count": null,
   "id": "e9a46d5f",
   "metadata": {},
   "outputs": [],
   "source": [
    "homelessness = pd.read_csv('./datasets/homelessness.csv', index_col=0)"
   ]
  },
  {
   "cell_type": "code",
   "execution_count": null,
   "id": "8c578481",
   "metadata": {},
   "outputs": [],
   "source": [
    "# Imprimir los primeros datos con head\n",
    "homelessness.head()"
   ]
  },
  {
   "cell_type": "code",
   "execution_count": null,
   "id": "b695d414",
   "metadata": {},
   "outputs": [],
   "source": [
    "# Imprimir información acerca de homleness \n",
    "print(homelessness.info())"
   ]
  },
  {
   "cell_type": "code",
   "execution_count": null,
   "id": "e33de80f",
   "metadata": {},
   "outputs": [],
   "source": [
    "print(homelessness.shape)"
   ]
  },
  {
   "cell_type": "code",
   "execution_count": null,
   "id": "eb73f9b5",
   "metadata": {},
   "outputs": [],
   "source": [
    "# print la descripción de  homeleness\n",
    "print(homelessness.describe())"
   ]
  },
  {
   "cell_type": "code",
   "execution_count": null,
   "id": "1cea9f65",
   "metadata": {},
   "outputs": [],
   "source": [
    "# Partes de un dataframe \n",
    "print(homelessness.values)"
   ]
  },
  {
   "cell_type": "code",
   "execution_count": null,
   "id": "b5c09d74",
   "metadata": {},
   "outputs": [],
   "source": [
    "# Imprimir los indices de las columnas\n",
    "print(homelessness.columns)\n"
   ]
  },
  {
   "cell_type": "code",
   "execution_count": null,
   "id": "fcd4261f",
   "metadata": {},
   "outputs": [],
   "source": [
    "# Imprimir los indices de las filas homeleness\n",
    "print(homelessness.index) "
   ]
  },
  {
   "cell_type": "markdown",
   "id": "129ae5fb",
   "metadata": {},
   "source": [
    "## Ordenar filas\n",
    "| Ordenar en ... | Sintaxis |\n",
    "|----------------|----------------------------|\n",
    "| Una columna    |`df-sort_values(\"bread\")`   |\n",
    "| Varias columnas    |`df-sort_values([\"bread\", \"weight_kg\"])`   |\n",
    "\n",
    "1. Ordena homelessness por el número de personas sin hogar de la columna individuals, de menor a mayor y guardarlo como gomelessness_ind\n",
    "2. Ordena homeleness por el número de personas sin hogar family_members en orden descendente y guardarlo como homelessness_fam \n",
    "3. Ordena por región y de forma ascendente, por número de miembros de la familia pero de forma descendente y almacenar como homelessness_reg_fam\n",
    "\n"
   ]
  },
  {
   "cell_type": "code",
   "execution_count": null,
   "id": "47a36f1e",
   "metadata": {},
   "outputs": [],
   "source": [
    "homelessness_ind = homelessness.sort_values('individuals')\n",
    "print(homelessness_ind.head(10))\n",
    "\n"
   ]
  },
  {
   "cell_type": "code",
   "execution_count": null,
   "id": "052ab72f",
   "metadata": {},
   "outputs": [],
   "source": [
    "# Ordenar homelessness por family_members de forma descendente\n",
    "homelessness_fam = homelessness.sort_values(\"family_members\", ascending=False)\n",
    "print(homelessness_fam.head(10))"
   ]
  },
  {
   "cell_type": "code",
   "execution_count": null,
   "id": "e8232d50",
   "metadata": {},
   "outputs": [],
   "source": [
    "homelessness_re_fam = homelessness.sort_values(['Region', 'family_members']. ascending=[True, False])\n",
    "print(homelessness_re_fam.head(10))\n",
    "\n"
   ]
  },
  {
   "cell_type": "markdown",
   "id": "4a94ed0c",
   "metadata": {},
   "source": [
    "## Subconjuntos de columnas\n",
    "Hay muchas formas de subconjuntar un dataframe. Quizá la más común sea utilizar operadores relacionales para devolver `True` o `False` para cada fila y luego pasasrlo entre corchetes.\n",
    "\n",
    "**Ejemplo**\n",
    "`dogs[dogs['height_cm'] > 60]`\n",
    "`dogs[dogs['color'] == \"tan\"]`\n",
    "\n",
    "\n",
    "También puedes filtrar por varias condiciones a la vez utilizando el operador \n",
    "\n",
    "`dogs[(dogs['height_cm'] > 60) & (dogs['color'] == 'tan')]`\n",
    "\n",
    "**Instrucciones**\n",
    "1. Filtra homelessness para los casos en los que el número individual sea superior o diez mil, `asignándosele ind_gt_10k`. Visualizar el resultado\n",
    "2. Filtra homelessness para los casos en los que la region es Mountain asignando a mountain_reg. Visualiza el resultado\n",
    "3. Filtra homelessness para los casos en los que el número de family_members sea inferior a mil y la región sea 'Pacifico', asignandolo a fam_lt_1k\n",
    "4. "
   ]
  },
  {
   "cell_type": "code",
   "execution_count": null,
   "id": "f8a7d705",
   "metadata": {},
   "outputs": [],
   "source": [
    "mountain_reg = homelessness [homelessness['region'] == 'Mountain']\n",
    "mountain_reg.sort_values('region', ascending=True)\n",
    "print(mountain_reg.head())"
   ]
  },
  {
   "cell_type": "code",
   "execution_count": null,
   "id": "bc9ff22a",
   "metadata": {},
   "outputs": [],
   "source": [
    "ind_gt_10k = homelessness [homelessness['individuals'] > 10000]\n",
    "print(ind_gt_10k)"
   ]
  },
  {
   "cell_type": "code",
   "execution_count": null,
   "id": "ab3707c9",
   "metadata": {},
   "outputs": [],
   "source": [
    "fam_lt_1k_pac = homelessness[(homelessness['family_members'] < 1000) & (homelessness['region'] == 'Pacific')  ]\n",
    "print(fam_lt_1k_pac)"
   ]
  },
  {
   "cell_type": "markdown",
   "id": "e5ac0f47",
   "metadata": {},
   "source": [
    "# Subconjunto de filas por variables categóricas\n",
    "Utiliza el método `.isIn()` que permitirá abordar el problema escribiendo en una sola condición en lugar de varias porque para segmentar variables categóricas se utilizan el operador | \n",
    "\n",
    "`colors = ['brown', 'black', 'tan']`\n",
    "\n",
    "`condition = dogs['color'].isin(colors)`\n",
    "\n",
    "`dogs ['condition']`\n",
    "\n",
    "**Instrucciones**\n",
    "1. Filtra homelessness para los casos en los que el censo para los estados California, Arizona, Nevada, Utha, asignándolo a Mojave_homelessness\n"
   ]
  },
  {
   "cell_type": "code",
   "execution_count": null,
   "id": "7d9792d9",
   "metadata": {},
   "outputs": [],
   "source": [
    "canu = ['California', 'Arizona', 'Nevada', 'Utah']\n",
    "mojave_homelessness = homelessness[homelessness['state'].isin(canu)]\n",
    "mojave_homelessness"
   ]
  },
  {
   "cell_type": "code",
   "execution_count": null,
   "id": "184f226d",
   "metadata": {},
   "outputs": [],
   "source": []
  },
  {
   "cell_type": "markdown",
   "id": "6882b2da",
   "metadata": {},
   "source": [
    "wha"
   ]
  },
  {
   "cell_type": "code",
   "execution_count": null,
   "id": "cd777a3c",
   "metadata": {},
   "outputs": [],
   "source": [
    "# Agregar una columna total como la suma de individuals y family_members.homelessness['total'] = homelessness['individuals'] + homelessness['family_members']\n",
    "\n",
    "# Agregar una columna llamada P_homelessness como una proporción del total de homelessnessde la población para el estado de la población\n",
    "homelessness['p_homeless'] = homelessness['total'] / homelessness['state_pop']\n",
    "print(homelessness.head(10))\n",
    "\n",
    "\n"
   ]
  },
  {
   "cell_type": "code",
   "execution_count": null,
   "id": "dd109d14",
   "metadata": {},
   "outputs": [],
   "source": [
    "columnas = ['state', 'individuals', 'state_pop', 'total', 'p_homelessness']\n",
    "homelessness[columnas].head(10)\n",
    "\n"
   ]
  },
  {
   "cell_type": "markdown",
   "id": "1459b3f4",
   "metadata": {},
   "source": [
    "## Práctica - combo ataque\n",
    "Hasta ahora, se han visto los cuatro tipos más comunes de manipulación de datos: `Ordenar filas`, `Subconjuntar columnas`, `subconjuntar filas`, `añadir nuevas columnas`.\n",
    "En un análisis de la vida real, puedes mezclar y combinar estas cuatro manipulaciones para responder a múltiples preguntas. En este ejercicio responderás la pregunta: `¿Que estado tiene el mayor número de personas sin hogar por cada 10,000 habitantes?`. Combina las nuevas habilidades en Pandas para averiguarlo.\n",
    "\n",
    "**Instrucciones**\n",
    "- Añade una columna a homelessness, indiv_per_10k, que contenga el número de personas sin hogar por cada 10,000 de personas en cada estado, utilizando state_pop para la población del estado\n",
    "\n",
    "- Subconjunta las filas en las que indiv_per_10k sea superior a 20, asignandolas a high_homelessness\n",
    "\n",
    "- Ordena high_homelessness en orden descendente ndiv_per_10k, asignando a high_homelessness_srt seleccionando solo las columnas statee ind_per_10k de high_homelessness_srt y guárdalas como result y visualiza result\n"
   ]
  },
  {
   "cell_type": "code",
   "execution_count": null,
   "id": "7c8c6925",
   "metadata": {},
   "outputs": [],
   "source": [
    "# Crear la columna indiv_per_10k como homeless indiv\n",
    "homelessness [indiv_per_10k] = homelessness['individuals'] / homelessness ['state_pop'] * 10000\n",
    "\n",
    "high_homelessness = homelessness[homelessness['indiv_per_10k'] > 20]\n",
    "\n",
    "result  = high_homelessness.sort_values('indiv_per_10k', ascending=False)\n",
    "\n",
    "# Visualizar el resultado\n",
    "result \n"
   ]
  },
  {
   "cell_type": "markdown",
   "id": "29e4f1fa",
   "metadata": {},
   "source": [
    "El District of Columbia tiene el mayor número de individuos sin hogar - casi 54 por cada diez mil personas. Esto es casi el doble del número del siguiente estado con más casos. Hawaii"
   ]
  },
  {
   "cell_type": "code",
   "execution_count": null,
   "id": "e9b952be",
   "metadata": {},
   "outputs": [],
   "source": []
  }
 ],
 "metadata": {
  "kernelspec": {
   "display_name": "base",
   "language": "python",
   "name": "python3"
  },
  "language_info": {
   "codemirror_mode": {
    "name": "ipython",
    "version": 3
   },
   "file_extension": ".py",
   "mimetype": "text/x-python",
   "name": "python",
   "nbconvert_exporter": "python",
   "pygments_lexer": "ipython3",
   "version": "3.12.7"
  }
 },
 "nbformat": 4,
 "nbformat_minor": 5
}
