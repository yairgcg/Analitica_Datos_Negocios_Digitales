{
 "cells": [
  {
   "cell_type": "markdown",
   "id": "c41de438",
   "metadata": {},
   "source": [
    "# Ejemplo práctico para Pandas con Dataframes "
   ]
  },
  {
   "cell_type": "markdown",
   "id": "27e98278",
   "metadata": {},
   "source": [
    "## 1. Inspección inicial del dataframe "
   ]
  },
  {
   "cell_type": "markdown",
   "id": "86cc9616",
   "metadata": {},
   "source": []
  },
  {
   "cell_type": "code",
   "execution_count": null,
   "id": "77ec87cd",
   "metadata": {},
   "outputs": [],
   "source": [
    "# Importación de librerias\n",
    "import pandas as pd\n"
   ]
  },
  {
   "cell_type": "code",
   "execution_count": null,
   "id": "b3952ca7",
   "metadata": {},
   "outputs": [],
   "source": [
    "# Crear un dataframe a partir de un diccionario\n",
    "data = {\n",
    "    'Nombre': ['Ana', 'Luis', 'Carlos', 'Lucia', 'Martha',  'Jorge', 'Sofia'],\n",
    "    'Edad': [23,25,45,25,30,38,32],\n",
    "    'Ciudad': ['CDMX', 'Guadalajara', 'Monterrey', 'CDMX' ,'Puebla', 'CDMX', 'Guadalajara'],\n",
    "    'Salario': [12000, 15000, 18000, 12500, 14000, 13000, 15500],\n",
    "    'Departamento': ['Ventas', 'Marketing', 'Ventas', 'TI', 'TI', 'Marketing', 'Ventas' ]\n",
    "}"
   ]
  },
  {
   "cell_type": "code",
   "execution_count": null,
   "id": "a9425a59",
   "metadata": {},
   "outputs": [],
   "source": [
    "df = pd.DataFrame(data)\n",
    "df\n"
   ]
  },
  {
   "cell_type": "markdown",
   "id": "20810639",
   "metadata": {},
   "source": [
    "## 2. Estructura y Resumen del DataFrame\n"
   ]
  },
  {
   "cell_type": "markdown",
   "id": "789a318f",
   "metadata": {},
   "source": []
  },
  {
   "cell_type": "code",
   "execution_count": null,
   "id": "71d7de44",
   "metadata": {},
   "outputs": [],
   "source": [
    "df.info()"
   ]
  },
  {
   "cell_type": "code",
   "execution_count": null,
   "id": "924b3847",
   "metadata": {},
   "outputs": [],
   "source": [
    "df.describe()"
   ]
  },
  {
   "cell_type": "code",
   "execution_count": null,
   "id": "0f725e4c",
   "metadata": {},
   "outputs": [],
   "source": [
    "# Muestra el tamaño del dataframe\n",
    "df.shape"
   ]
  },
  {
   "cell_type": "code",
   "execution_count": null,
   "id": "08c2f2cd",
   "metadata": {},
   "outputs": [],
   "source": [
    "# Numero de filas\n",
    "df.shape[0]\n",
    "\n",
    "# Numero de columnas\n",
    "df.shape[1]"
   ]
  },
  {
   "cell_type": "code",
   "execution_count": null,
   "id": "6b15dc1b",
   "metadata": {},
   "outputs": [],
   "source": [
    "# Muestra los tipos de datos de las columnas\n",
    "df.dtypes"
   ]
  },
  {
   "cell_type": "code",
   "execution_count": null,
   "id": "8223b527",
   "metadata": {},
   "outputs": [],
   "source": [
    "# Muestra el nombre de las columnas\n",
    "df.columns"
   ]
  },
  {
   "cell_type": "code",
   "execution_count": null,
   "id": "3638e138",
   "metadata": {},
   "outputs": [],
   "source": [
    "# Los indices\n",
    "df.index    "
   ]
  },
  {
   "cell_type": "code",
   "execution_count": null,
   "id": "deb74930",
   "metadata": {},
   "outputs": [],
   "source": []
  },
  {
   "cell_type": "markdown",
   "id": "4af06279",
   "metadata": {},
   "source": [
    "## 3. Selección de columnas y filas (Segmentación)"
   ]
  },
  {
   "cell_type": "markdown",
   "id": "26378db9",
   "metadata": {},
   "source": []
  },
  {
   "cell_type": "code",
   "execution_count": null,
   "id": "9158f3cb",
   "metadata": {},
   "outputs": [],
   "source": [
    "# Selecciona una sola columna del dataframe como una serie\n",
    "df['Edad']"
   ]
  },
  {
   "cell_type": "code",
   "execution_count": null,
   "id": "567ef184",
   "metadata": {},
   "outputs": [],
   "source": [
    "type(df['Edad'])"
   ]
  },
  {
   "cell_type": "code",
   "execution_count": null,
   "id": "fb81d7fb",
   "metadata": {},
   "outputs": [],
   "source": [
    "df[['Edad']]"
   ]
  },
  {
   "cell_type": "code",
   "execution_count": null,
   "id": "da613881",
   "metadata": {},
   "outputs": [],
   "source": [
    "df[['Nombre', 'Salario']]"
   ]
  },
  {
   "cell_type": "markdown",
   "id": "ecea65ff",
   "metadata": {},
   "source": [
    "## 4. Filtrado de Filas"
   ]
  },
  {
   "cell_type": "code",
   "execution_count": null,
   "id": "0530d913",
   "metadata": {},
   "outputs": [],
   "source": [
    "# Filtrar todas las filas que la ciudad sea CDMX\n",
    "df[df['Ciudad'] == 'CDMX']\n"
   ]
  },
  {
   "cell_type": "code",
   "execution_count": null,
   "id": "8eca8f50",
   "metadata": {},
   "outputs": [],
   "source": []
  },
  {
   "cell_type": "code",
   "execution_count": null,
   "id": "4da6aa1d",
   "metadata": {},
   "outputs": [],
   "source": [
    "df[df['Ciudad'] == 'CDMX'][['Nombre', 'Ciudad', 'Salario']]"
   ]
  },
  {
   "cell_type": "code",
   "execution_count": null,
   "id": "4e40764b",
   "metadata": {},
   "outputs": [],
   "source": [
    "df_cdmx = df[df['Ciudad'] == 'CDMX']"
   ]
  },
  {
   "cell_type": "code",
   "execution_count": null,
   "id": "3c1ebda4",
   "metadata": {},
   "outputs": [],
   "source": [
    "df_cdmx [['Nombre', 'Ciudad', 'Salario']]"
   ]
  },
  {
   "cell_type": "code",
   "execution_count": null,
   "id": "2fba9e21",
   "metadata": {},
   "outputs": [],
   "source": [
    "# Mostrar todas las filas de la Ciudad de México y del departamento de TI\n",
    "df[(df['Ciudad'] == 'CDMX') & (df['Departamento']== 'TI')]"
   ]
  },
  {
   "cell_type": "code",
   "execution_count": null,
   "id": "43c22e9b",
   "metadata": {},
   "outputs": [],
   "source": [
    "# Mostrar todas las filas de la Ciudad de México o del departamento de TI\n",
    "df[(df['Ciudad'] == 'CDMX') | (df['Departamento']== 'TI')]"
   ]
  },
  {
   "cell_type": "code",
   "execution_count": 42,
   "id": "4f0b8dd1",
   "metadata": {},
   "outputs": [
    {
     "data": {
      "text/html": [
       "<div>\n",
       "<style scoped>\n",
       "    .dataframe tbody tr th:only-of-type {\n",
       "        vertical-align: middle;\n",
       "    }\n",
       "\n",
       "    .dataframe tbody tr th {\n",
       "        vertical-align: top;\n",
       "    }\n",
       "\n",
       "    .dataframe thead th {\n",
       "        text-align: right;\n",
       "    }\n",
       "</style>\n",
       "<table border=\"1\" class=\"dataframe\">\n",
       "  <thead>\n",
       "    <tr style=\"text-align: right;\">\n",
       "      <th></th>\n",
       "      <th>Nombre</th>\n",
       "      <th>Edad</th>\n",
       "      <th>Ciudad</th>\n",
       "      <th>Salario</th>\n",
       "      <th>Departamento</th>\n",
       "    </tr>\n",
       "  </thead>\n",
       "  <tbody>\n",
       "    <tr>\n",
       "      <th>0</th>\n",
       "      <td>Ana</td>\n",
       "      <td>23</td>\n",
       "      <td>CDMX</td>\n",
       "      <td>12000</td>\n",
       "      <td>Ventas</td>\n",
       "    </tr>\n",
       "    <tr>\n",
       "      <th>3</th>\n",
       "      <td>Lucia</td>\n",
       "      <td>25</td>\n",
       "      <td>CDMX</td>\n",
       "      <td>12500</td>\n",
       "      <td>TI</td>\n",
       "    </tr>\n",
       "    <tr>\n",
       "      <th>5</th>\n",
       "      <td>Jorge</td>\n",
       "      <td>38</td>\n",
       "      <td>CDMX</td>\n",
       "      <td>13000</td>\n",
       "      <td>Marketing</td>\n",
       "    </tr>\n",
       "    <tr>\n",
       "      <th>4</th>\n",
       "      <td>Martha</td>\n",
       "      <td>30</td>\n",
       "      <td>Puebla</td>\n",
       "      <td>14000</td>\n",
       "      <td>TI</td>\n",
       "    </tr>\n",
       "    <tr>\n",
       "      <th>1</th>\n",
       "      <td>Luis</td>\n",
       "      <td>25</td>\n",
       "      <td>Guadalajara</td>\n",
       "      <td>15000</td>\n",
       "      <td>Marketing</td>\n",
       "    </tr>\n",
       "    <tr>\n",
       "      <th>6</th>\n",
       "      <td>Sofia</td>\n",
       "      <td>32</td>\n",
       "      <td>Guadalajara</td>\n",
       "      <td>15500</td>\n",
       "      <td>Ventas</td>\n",
       "    </tr>\n",
       "    <tr>\n",
       "      <th>2</th>\n",
       "      <td>Carlos</td>\n",
       "      <td>45</td>\n",
       "      <td>Monterrey</td>\n",
       "      <td>18000</td>\n",
       "      <td>Ventas</td>\n",
       "    </tr>\n",
       "  </tbody>\n",
       "</table>\n",
       "</div>"
      ],
      "text/plain": [
       "   Nombre  Edad       Ciudad  Salario Departamento\n",
       "0     Ana    23         CDMX    12000       Ventas\n",
       "3   Lucia    25         CDMX    12500           TI\n",
       "5   Jorge    38         CDMX    13000    Marketing\n",
       "4  Martha    30       Puebla    14000           TI\n",
       "1    Luis    25  Guadalajara    15000    Marketing\n",
       "6   Sofia    32  Guadalajara    15500       Ventas\n",
       "2  Carlos    45    Monterrey    18000       Ventas"
      ]
     },
     "execution_count": 42,
     "metadata": {},
     "output_type": "execute_result"
    }
   ],
   "source": [
    "## Ordenar por salsario de forma ascendente\n",
    "df.sort_values(by = 'Salario', ascending=True)"
   ]
  },
  {
   "cell_type": "code",
   "execution_count": 43,
   "id": "762d3cda",
   "metadata": {},
   "outputs": [
    {
     "data": {
      "text/html": [
       "<div>\n",
       "<style scoped>\n",
       "    .dataframe tbody tr th:only-of-type {\n",
       "        vertical-align: middle;\n",
       "    }\n",
       "\n",
       "    .dataframe tbody tr th {\n",
       "        vertical-align: top;\n",
       "    }\n",
       "\n",
       "    .dataframe thead th {\n",
       "        text-align: right;\n",
       "    }\n",
       "</style>\n",
       "<table border=\"1\" class=\"dataframe\">\n",
       "  <thead>\n",
       "    <tr style=\"text-align: right;\">\n",
       "      <th></th>\n",
       "      <th>Nombre</th>\n",
       "      <th>Edad</th>\n",
       "      <th>Ciudad</th>\n",
       "      <th>Salario</th>\n",
       "      <th>Departamento</th>\n",
       "    </tr>\n",
       "  </thead>\n",
       "  <tbody>\n",
       "    <tr>\n",
       "      <th>2</th>\n",
       "      <td>Carlos</td>\n",
       "      <td>45</td>\n",
       "      <td>Monterrey</td>\n",
       "      <td>18000</td>\n",
       "      <td>Ventas</td>\n",
       "    </tr>\n",
       "    <tr>\n",
       "      <th>6</th>\n",
       "      <td>Sofia</td>\n",
       "      <td>32</td>\n",
       "      <td>Guadalajara</td>\n",
       "      <td>15500</td>\n",
       "      <td>Ventas</td>\n",
       "    </tr>\n",
       "    <tr>\n",
       "      <th>1</th>\n",
       "      <td>Luis</td>\n",
       "      <td>25</td>\n",
       "      <td>Guadalajara</td>\n",
       "      <td>15000</td>\n",
       "      <td>Marketing</td>\n",
       "    </tr>\n",
       "    <tr>\n",
       "      <th>4</th>\n",
       "      <td>Martha</td>\n",
       "      <td>30</td>\n",
       "      <td>Puebla</td>\n",
       "      <td>14000</td>\n",
       "      <td>TI</td>\n",
       "    </tr>\n",
       "    <tr>\n",
       "      <th>5</th>\n",
       "      <td>Jorge</td>\n",
       "      <td>38</td>\n",
       "      <td>CDMX</td>\n",
       "      <td>13000</td>\n",
       "      <td>Marketing</td>\n",
       "    </tr>\n",
       "    <tr>\n",
       "      <th>3</th>\n",
       "      <td>Lucia</td>\n",
       "      <td>25</td>\n",
       "      <td>CDMX</td>\n",
       "      <td>12500</td>\n",
       "      <td>TI</td>\n",
       "    </tr>\n",
       "    <tr>\n",
       "      <th>0</th>\n",
       "      <td>Ana</td>\n",
       "      <td>23</td>\n",
       "      <td>CDMX</td>\n",
       "      <td>12000</td>\n",
       "      <td>Ventas</td>\n",
       "    </tr>\n",
       "  </tbody>\n",
       "</table>\n",
       "</div>"
      ],
      "text/plain": [
       "   Nombre  Edad       Ciudad  Salario Departamento\n",
       "2  Carlos    45    Monterrey    18000       Ventas\n",
       "6   Sofia    32  Guadalajara    15500       Ventas\n",
       "1    Luis    25  Guadalajara    15000    Marketing\n",
       "4  Martha    30       Puebla    14000           TI\n",
       "5   Jorge    38         CDMX    13000    Marketing\n",
       "3   Lucia    25         CDMX    12500           TI\n",
       "0     Ana    23         CDMX    12000       Ventas"
      ]
     },
     "execution_count": 43,
     "metadata": {},
     "output_type": "execute_result"
    }
   ],
   "source": [
    "## Ordenar por salsario de forma descendetne\n",
    "df.sort_values(by = 'Salario', ascending=False)"
   ]
  },
  {
   "cell_type": "markdown",
   "id": "fa9d1a85",
   "metadata": {},
   "source": [
    "# Ordenar por el salsario y la ciudad"
   ]
  },
  {
   "cell_type": "code",
   "execution_count": null,
   "id": "8ae2aca9",
   "metadata": {},
   "outputs": [
    {
     "data": {
      "text/html": [
       "<div>\n",
       "<style scoped>\n",
       "    .dataframe tbody tr th:only-of-type {\n",
       "        vertical-align: middle;\n",
       "    }\n",
       "\n",
       "    .dataframe tbody tr th {\n",
       "        vertical-align: top;\n",
       "    }\n",
       "\n",
       "    .dataframe thead th {\n",
       "        text-align: right;\n",
       "    }\n",
       "</style>\n",
       "<table border=\"1\" class=\"dataframe\">\n",
       "  <thead>\n",
       "    <tr style=\"text-align: right;\">\n",
       "      <th></th>\n",
       "      <th>Nombre</th>\n",
       "      <th>Edad</th>\n",
       "      <th>Ciudad</th>\n",
       "      <th>Salario</th>\n",
       "      <th>Departamento</th>\n",
       "    </tr>\n",
       "  </thead>\n",
       "  <tbody>\n",
       "    <tr>\n",
       "      <th>0</th>\n",
       "      <td>Ana</td>\n",
       "      <td>23</td>\n",
       "      <td>CDMX</td>\n",
       "      <td>12000</td>\n",
       "      <td>Ventas</td>\n",
       "    </tr>\n",
       "    <tr>\n",
       "      <th>3</th>\n",
       "      <td>Lucia</td>\n",
       "      <td>25</td>\n",
       "      <td>CDMX</td>\n",
       "      <td>12500</td>\n",
       "      <td>TI</td>\n",
       "    </tr>\n",
       "    <tr>\n",
       "      <th>5</th>\n",
       "      <td>Jorge</td>\n",
       "      <td>38</td>\n",
       "      <td>CDMX</td>\n",
       "      <td>13000</td>\n",
       "      <td>Marketing</td>\n",
       "    </tr>\n",
       "    <tr>\n",
       "      <th>1</th>\n",
       "      <td>Luis</td>\n",
       "      <td>25</td>\n",
       "      <td>Guadalajara</td>\n",
       "      <td>15000</td>\n",
       "      <td>Marketing</td>\n",
       "    </tr>\n",
       "    <tr>\n",
       "      <th>6</th>\n",
       "      <td>Sofia</td>\n",
       "      <td>32</td>\n",
       "      <td>Guadalajara</td>\n",
       "      <td>15500</td>\n",
       "      <td>Ventas</td>\n",
       "    </tr>\n",
       "    <tr>\n",
       "      <th>2</th>\n",
       "      <td>Carlos</td>\n",
       "      <td>45</td>\n",
       "      <td>Monterrey</td>\n",
       "      <td>18000</td>\n",
       "      <td>Ventas</td>\n",
       "    </tr>\n",
       "    <tr>\n",
       "      <th>4</th>\n",
       "      <td>Martha</td>\n",
       "      <td>30</td>\n",
       "      <td>Puebla</td>\n",
       "      <td>14000</td>\n",
       "      <td>TI</td>\n",
       "    </tr>\n",
       "  </tbody>\n",
       "</table>\n",
       "</div>"
      ],
      "text/plain": [
       "   Nombre  Edad       Ciudad  Salario Departamento\n",
       "0     Ana    23         CDMX    12000       Ventas\n",
       "3   Lucia    25         CDMX    12500           TI\n",
       "5   Jorge    38         CDMX    13000    Marketing\n",
       "1    Luis    25  Guadalajara    15000    Marketing\n",
       "6   Sofia    32  Guadalajara    15500       Ventas\n",
       "2  Carlos    45    Monterrey    18000       Ventas\n",
       "4  Martha    30       Puebla    14000           TI"
      ]
     },
     "execution_count": 44,
     "metadata": {},
     "output_type": "execute_result"
    }
   ],
   "source": [
    "# Ordenar por el salsario y la ciudad\n",
    "df.sort_values(by =['Ciudad', 'Salario'])\n"
   ]
  },
  {
   "cell_type": "code",
   "execution_count": 45,
   "id": "5392d32e",
   "metadata": {},
   "outputs": [
    {
     "data": {
      "text/html": [
       "<div>\n",
       "<style scoped>\n",
       "    .dataframe tbody tr th:only-of-type {\n",
       "        vertical-align: middle;\n",
       "    }\n",
       "\n",
       "    .dataframe tbody tr th {\n",
       "        vertical-align: top;\n",
       "    }\n",
       "\n",
       "    .dataframe thead th {\n",
       "        text-align: right;\n",
       "    }\n",
       "</style>\n",
       "<table border=\"1\" class=\"dataframe\">\n",
       "  <thead>\n",
       "    <tr style=\"text-align: right;\">\n",
       "      <th></th>\n",
       "      <th>Nombre</th>\n",
       "      <th>Edad</th>\n",
       "      <th>Ciudad</th>\n",
       "      <th>Salario</th>\n",
       "      <th>Departamento</th>\n",
       "    </tr>\n",
       "  </thead>\n",
       "  <tbody>\n",
       "    <tr>\n",
       "      <th>5</th>\n",
       "      <td>Jorge</td>\n",
       "      <td>38</td>\n",
       "      <td>CDMX</td>\n",
       "      <td>13000</td>\n",
       "      <td>Marketing</td>\n",
       "    </tr>\n",
       "    <tr>\n",
       "      <th>3</th>\n",
       "      <td>Lucia</td>\n",
       "      <td>25</td>\n",
       "      <td>CDMX</td>\n",
       "      <td>12500</td>\n",
       "      <td>TI</td>\n",
       "    </tr>\n",
       "    <tr>\n",
       "      <th>0</th>\n",
       "      <td>Ana</td>\n",
       "      <td>23</td>\n",
       "      <td>CDMX</td>\n",
       "      <td>12000</td>\n",
       "      <td>Ventas</td>\n",
       "    </tr>\n",
       "    <tr>\n",
       "      <th>6</th>\n",
       "      <td>Sofia</td>\n",
       "      <td>32</td>\n",
       "      <td>Guadalajara</td>\n",
       "      <td>15500</td>\n",
       "      <td>Ventas</td>\n",
       "    </tr>\n",
       "    <tr>\n",
       "      <th>1</th>\n",
       "      <td>Luis</td>\n",
       "      <td>25</td>\n",
       "      <td>Guadalajara</td>\n",
       "      <td>15000</td>\n",
       "      <td>Marketing</td>\n",
       "    </tr>\n",
       "    <tr>\n",
       "      <th>2</th>\n",
       "      <td>Carlos</td>\n",
       "      <td>45</td>\n",
       "      <td>Monterrey</td>\n",
       "      <td>18000</td>\n",
       "      <td>Ventas</td>\n",
       "    </tr>\n",
       "    <tr>\n",
       "      <th>4</th>\n",
       "      <td>Martha</td>\n",
       "      <td>30</td>\n",
       "      <td>Puebla</td>\n",
       "      <td>14000</td>\n",
       "      <td>TI</td>\n",
       "    </tr>\n",
       "  </tbody>\n",
       "</table>\n",
       "</div>"
      ],
      "text/plain": [
       "   Nombre  Edad       Ciudad  Salario Departamento\n",
       "5   Jorge    38         CDMX    13000    Marketing\n",
       "3   Lucia    25         CDMX    12500           TI\n",
       "0     Ana    23         CDMX    12000       Ventas\n",
       "6   Sofia    32  Guadalajara    15500       Ventas\n",
       "1    Luis    25  Guadalajara    15000    Marketing\n",
       "2  Carlos    45    Monterrey    18000       Ventas\n",
       "4  Martha    30       Puebla    14000           TI"
      ]
     },
     "execution_count": 45,
     "metadata": {},
     "output_type": "execute_result"
    }
   ],
   "source": [
    "df.sort_values(by=['Ciudad', 'Salario'], ascending=[True, False])"
   ]
  },
  {
   "cell_type": "code",
   "execution_count": null,
   "id": "02845723",
   "metadata": {},
   "outputs": [
    {
     "data": {
      "text/html": [
       "<div>\n",
       "<style scoped>\n",
       "    .dataframe tbody tr th:only-of-type {\n",
       "        vertical-align: middle;\n",
       "    }\n",
       "\n",
       "    .dataframe tbody tr th {\n",
       "        vertical-align: top;\n",
       "    }\n",
       "\n",
       "    .dataframe thead th {\n",
       "        text-align: right;\n",
       "    }\n",
       "</style>\n",
       "<table border=\"1\" class=\"dataframe\">\n",
       "  <thead>\n",
       "    <tr style=\"text-align: right;\">\n",
       "      <th></th>\n",
       "      <th>Nombre</th>\n",
       "      <th>Edad</th>\n",
       "      <th>Ciudad</th>\n",
       "      <th>Salario</th>\n",
       "      <th>Departamento</th>\n",
       "    </tr>\n",
       "  </thead>\n",
       "  <tbody>\n",
       "    <tr>\n",
       "      <th>0</th>\n",
       "      <td>Ana</td>\n",
       "      <td>23</td>\n",
       "      <td>CDMX</td>\n",
       "      <td>12000</td>\n",
       "      <td>Ventas</td>\n",
       "    </tr>\n",
       "    <tr>\n",
       "      <th>3</th>\n",
       "      <td>Lucia</td>\n",
       "      <td>25</td>\n",
       "      <td>CDMX</td>\n",
       "      <td>12500</td>\n",
       "      <td>TI</td>\n",
       "    </tr>\n",
       "    <tr>\n",
       "      <th>5</th>\n",
       "      <td>Jorge</td>\n",
       "      <td>38</td>\n",
       "      <td>CDMX</td>\n",
       "      <td>13000</td>\n",
       "      <td>Marketing</td>\n",
       "    </tr>\n",
       "    <tr>\n",
       "      <th>4</th>\n",
       "      <td>Martha</td>\n",
       "      <td>30</td>\n",
       "      <td>Puebla</td>\n",
       "      <td>14000</td>\n",
       "      <td>TI</td>\n",
       "    </tr>\n",
       "    <tr>\n",
       "      <th>1</th>\n",
       "      <td>Luis</td>\n",
       "      <td>25</td>\n",
       "      <td>Guadalajara</td>\n",
       "      <td>15000</td>\n",
       "      <td>Marketing</td>\n",
       "    </tr>\n",
       "    <tr>\n",
       "      <th>6</th>\n",
       "      <td>Sofia</td>\n",
       "      <td>32</td>\n",
       "      <td>Guadalajara</td>\n",
       "      <td>15500</td>\n",
       "      <td>Ventas</td>\n",
       "    </tr>\n",
       "    <tr>\n",
       "      <th>2</th>\n",
       "      <td>Carlos</td>\n",
       "      <td>45</td>\n",
       "      <td>Monterrey</td>\n",
       "      <td>18000</td>\n",
       "      <td>Ventas</td>\n",
       "    </tr>\n",
       "  </tbody>\n",
       "</table>\n",
       "</div>"
      ],
      "text/plain": [
       "   Nombre  Edad       Ciudad  Salario Departamento\n",
       "0     Ana    23         CDMX    12000       Ventas\n",
       "3   Lucia    25         CDMX    12500           TI\n",
       "5   Jorge    38         CDMX    13000    Marketing\n",
       "4  Martha    30       Puebla    14000           TI\n",
       "1    Luis    25  Guadalajara    15000    Marketing\n",
       "6   Sofia    32  Guadalajara    15500       Ventas\n",
       "2  Carlos    45    Monterrey    18000       Ventas"
      ]
     },
     "execution_count": 46,
     "metadata": {},
     "output_type": "execute_result"
    }
   ],
   "source": [
    "df.sort_values(by=['Salario', 'Ciudad'], ascending=[True, False])"
   ]
  },
  {
   "cell_type": "markdown",
   "id": "4e9e9d44",
   "metadata": {},
   "source": []
  },
  {
   "cell_type": "code",
   "execution_count": null,
   "id": "7d4f8ac6",
   "metadata": {},
   "outputs": [],
   "source": [
    "##  6. Crear nuevas columnas\n",
    "\n",
    "df.sort_values(by=['Ciudad', 'Salario'], ascending=[True, False])\n",
    "\n"
   ]
  },
  {
   "cell_type": "markdown",
   "id": "d8ab7143",
   "metadata": {},
   "source": []
  }
 ],
 "metadata": {
  "kernelspec": {
   "display_name": "base",
   "language": "python",
   "name": "python3"
  },
  "language_info": {
   "codemirror_mode": {
    "name": "ipython",
    "version": 3
   },
   "file_extension": ".py",
   "mimetype": "text/x-python",
   "name": "python",
   "nbconvert_exporter": "python",
   "pygments_lexer": "ipython3",
   "version": "3.12.7"
  }
 },
 "nbformat": 4,
 "nbformat_minor": 5
}
